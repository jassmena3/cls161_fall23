{
 "cells": [
  {
   "cell_type": "markdown",
   "id": "e1ec6b65",
   "metadata": {},
   "source": [
    "# functions"
   ]
  },
  {
   "cell_type": "markdown",
   "id": "48c274f5",
   "metadata": {},
   "source": [
    "## definition: named blocks of code that are designed to do one specific job"
   ]
  },
  {
   "cell_type": "markdown",
   "id": "dfc38b2f",
   "metadata": {},
   "source": [
    "## 8-1"
   ]
  },
  {
   "cell_type": "code",
   "execution_count": 1,
   "id": "67af88e2",
   "metadata": {},
   "outputs": [],
   "source": [
    "def display_message(): \n",
    "    \"\"\"Display chapter information.\"\"\"\n",
    "    print (\"In Chapter 8, we are learning to work with functions.\")"
   ]
  },
  {
   "cell_type": "code",
   "execution_count": 3,
   "id": "7e561160",
   "metadata": {},
   "outputs": [
    {
     "name": "stdout",
     "output_type": "stream",
     "text": [
      "In Chapter 8, we are learning to work with functions.\n"
     ]
    }
   ],
   "source": [
    "display_message()"
   ]
  },
  {
   "cell_type": "markdown",
   "id": "add52e5c",
   "metadata": {},
   "source": [
    "## 8-2"
   ]
  },
  {
   "cell_type": "code",
   "execution_count": 11,
   "id": "2e313912",
   "metadata": {},
   "outputs": [
    {
     "name": "stdout",
     "output_type": "stream",
     "text": [
      "One of my favorite books is Poet X!\n"
     ]
    }
   ],
   "source": [
    "def favorite_book(name):\n",
    "    \"\"\"Display favorite book information.\"\"\"\n",
    "    print(\"One of my favorite books is \" + name.title()+\"!\")\n",
    "favorite_book('Poet X')"
   ]
  },
  {
   "cell_type": "code",
   "execution_count": 10,
   "id": "b2b54bd6",
   "metadata": {},
   "outputs": [
    {
     "ename": "TypeError",
     "evalue": "'str' object is not callable",
     "output_type": "error",
     "traceback": [
      "\u001b[0;31m---------------------------------------------------------------------------\u001b[0m",
      "\u001b[0;31mTypeError\u001b[0m                                 Traceback (most recent call last)",
      "Cell \u001b[0;32mIn[10], line 1\u001b[0m\n\u001b[0;32m----> 1\u001b[0m favorite_book(\u001b[38;5;124m'\u001b[39m\u001b[38;5;124mPoet X\u001b[39m\u001b[38;5;124m'\u001b[39m)\n",
      "Cell \u001b[0;32mIn[8], line 3\u001b[0m, in \u001b[0;36mfavorite_book\u001b[0;34m(title)\u001b[0m\n\u001b[1;32m      1\u001b[0m \u001b[38;5;28;01mdef\u001b[39;00m \u001b[38;5;21mfavorite_book\u001b[39m(title):\n\u001b[1;32m      2\u001b[0m \u001b[38;5;250m    \u001b[39m\u001b[38;5;124;03m\"\"\"Display favorite book information.\"\"\"\u001b[39;00m\n\u001b[0;32m----> 3\u001b[0m     \u001b[38;5;28mprint\u001b[39m(\u001b[38;5;124m\"\u001b[39m\u001b[38;5;124mOne of my favorite books is \u001b[39m\u001b[38;5;124m\"\u001b[39m \u001b[38;5;241m+\u001b[39m title()\u001b[38;5;241m+\u001b[39m\u001b[38;5;124m\"\u001b[39m\u001b[38;5;124m!\u001b[39m\u001b[38;5;124m\"\u001b[39m)\n",
      "\u001b[0;31mTypeError\u001b[0m: 'str' object is not callable"
     ]
    }
   ],
   "source": [
    "favorite_book('Poet X')"
   ]
  },
  {
   "cell_type": "markdown",
   "id": "7c519e52",
   "metadata": {},
   "source": [
    "## 8-3"
   ]
  },
  {
   "cell_type": "code",
   "execution_count": 14,
   "id": "f1e8a568",
   "metadata": {},
   "outputs": [],
   "source": [
    "def make_shirt(shirt_size, shirt_info):\n",
    "    \"\"\"Display shirt size and printed information.\"\"\"\n",
    "    print(\"\\nI would like a \"+ shirt_size+' shirt'+ ' with the following printed:' +shirt_info+\".\")"
   ]
  },
  {
   "cell_type": "code",
   "execution_count": 15,
   "id": "83ebd82e",
   "metadata": {},
   "outputs": [
    {
     "name": "stdout",
     "output_type": "stream",
     "text": [
      "\n",
      "I would like a medium shirt with the following printed:I <3 LA.\n"
     ]
    }
   ],
   "source": [
    "make_shirt('medium', 'I <3 LA')"
   ]
  },
  {
   "cell_type": "code",
   "execution_count": 16,
   "id": "6ca3941c",
   "metadata": {},
   "outputs": [
    {
     "name": "stdout",
     "output_type": "stream",
     "text": [
      "\n",
      "I would like a large shirt with the following printed:Boston Red Socks!.\n"
     ]
    }
   ],
   "source": [
    "make_shirt(shirt_size='large', shirt_info='Boston Red Socks!')"
   ]
  },
  {
   "cell_type": "markdown",
   "id": "e53c19a6",
   "metadata": {},
   "source": [
    "## 8-5"
   ]
  },
  {
   "cell_type": "code",
   "execution_count": 19,
   "id": "8986afb5",
   "metadata": {},
   "outputs": [],
   "source": [
    "def describe_city(city_name,country_name='Spain'):\n",
    "    print(city_name +\" is in \"+ country_name+'.')"
   ]
  },
  {
   "cell_type": "code",
   "execution_count": 20,
   "id": "406d80fc",
   "metadata": {},
   "outputs": [
    {
     "name": "stdout",
     "output_type": "stream",
     "text": [
      "Madrid is in Spain.\n"
     ]
    }
   ],
   "source": [
    "describe_city('Madrid')"
   ]
  },
  {
   "cell_type": "code",
   "execution_count": 21,
   "id": "b7ec7cec",
   "metadata": {},
   "outputs": [
    {
     "name": "stdout",
     "output_type": "stream",
     "text": [
      "Seville is in Spain.\n"
     ]
    }
   ],
   "source": [
    "describe_city('Seville')"
   ]
  },
  {
   "cell_type": "code",
   "execution_count": 22,
   "id": "0581853b",
   "metadata": {},
   "outputs": [
    {
     "name": "stdout",
     "output_type": "stream",
     "text": [
      "Los Angeles is in Spain.\n"
     ]
    }
   ],
   "source": [
    "describe_city('Los Angeles')"
   ]
  },
  {
   "cell_type": "markdown",
   "id": "9d7fc52d",
   "metadata": {},
   "source": [
    "## 8-6"
   ]
  },
  {
   "cell_type": "code",
   "execution_count": 24,
   "id": "7f36cbf6",
   "metadata": {},
   "outputs": [],
   "source": [
    "def city_country(city, country):\n",
    "    \"\"\"Return name of city and country\"\"\"\n",
    "    print(city.title()+\", \" +country.title())"
   ]
  },
  {
   "cell_type": "code",
   "execution_count": 26,
   "id": "3e74a090",
   "metadata": {},
   "outputs": [
    {
     "name": "stdout",
     "output_type": "stream",
     "text": [
      "Florance, Italy\n"
     ]
    }
   ],
   "source": [
    "city_country('Florance', 'Italy')"
   ]
  },
  {
   "cell_type": "code",
   "execution_count": 27,
   "id": "ee85184f",
   "metadata": {},
   "outputs": [
    {
     "name": "stdout",
     "output_type": "stream",
     "text": [
      "Mexico City, Mexico\n"
     ]
    }
   ],
   "source": [
    "city_country('Mexico City', 'Mexico')"
   ]
  },
  {
   "cell_type": "code",
   "execution_count": 28,
   "id": "69be1d1f",
   "metadata": {},
   "outputs": [
    {
     "name": "stdout",
     "output_type": "stream",
     "text": [
      "Berlin, Germany\n"
     ]
    }
   ],
   "source": [
    "city_country('Berlin', 'Germany')"
   ]
  },
  {
   "cell_type": "markdown",
   "id": "2a757b17",
   "metadata": {},
   "source": [
    "## 8-7"
   ]
  },
  {
   "cell_type": "code",
   "execution_count": 36,
   "id": "9929bef3",
   "metadata": {},
   "outputs": [],
   "source": [
    "def make_album(artist_name, album_name):\n",
    "    \"\"\"Return a description of a music album\"\"\"\n",
    "    album={'name': artist_name, 'album name': album_name}\n",
    "    print(album)"
   ]
  },
  {
   "cell_type": "code",
   "execution_count": 37,
   "id": "05f3ac96",
   "metadata": {},
   "outputs": [
    {
     "name": "stdout",
     "output_type": "stream",
     "text": [
      "{'name': 'Dominic Fike', 'album name': 'Sunburn'}\n"
     ]
    }
   ],
   "source": [
    "make_album('Dominic Fike', 'Sunburn')"
   ]
  },
  {
   "cell_type": "code",
   "execution_count": 38,
   "id": "e678ec8a",
   "metadata": {},
   "outputs": [
    {
     "name": "stdout",
     "output_type": "stream",
     "text": [
      "{'name': 'Omar Apollo', 'album name': 'Ivory'}\n"
     ]
    }
   ],
   "source": [
    "make_album('Omar Apollo', 'Ivory')"
   ]
  },
  {
   "cell_type": "code",
   "execution_count": 39,
   "id": "3051419d",
   "metadata": {},
   "outputs": [
    {
     "name": "stdout",
     "output_type": "stream",
     "text": [
      "{'name': 'Drake', 'album name': 'Views'}\n"
     ]
    }
   ],
   "source": [
    "make_album('Drake', 'Views')"
   ]
  },
  {
   "cell_type": "code",
   "execution_count": 76,
   "id": "c4d5b37b",
   "metadata": {},
   "outputs": [],
   "source": [
    "def get_formatted_name(artist_name, album_name, tracks=''):\n",
    "    if tracks:\n",
    "        make_album=artist_name+''+album_name+''+tracks\n",
    "    else:\n",
    "        make_album=artist_name+''+album_name\n",
    "    return make_album"
   ]
  },
  {
   "cell_type": "code",
   "execution_count": 77,
   "id": "ec5bee6c",
   "metadata": {},
   "outputs": [
    {
     "name": "stdout",
     "output_type": "stream",
     "text": [
      "Karol G  Manana Sera Bonito 17\n"
     ]
    }
   ],
   "source": [
    "artist=get_formatted_name('Karol G ', ' Manana Sera Bonito', ' 17')\n",
    "print(artist)"
   ]
  }
 ],
 "metadata": {
  "kernelspec": {
   "display_name": "Python 3 (ipykernel)",
   "language": "python",
   "name": "python3"
  },
  "language_info": {
   "codemirror_mode": {
    "name": "ipython",
    "version": 3
   },
   "file_extension": ".py",
   "mimetype": "text/x-python",
   "name": "python",
   "nbconvert_exporter": "python",
   "pygments_lexer": "ipython3",
   "version": "3.11.4"
  }
 },
 "nbformat": 4,
 "nbformat_minor": 5
}
