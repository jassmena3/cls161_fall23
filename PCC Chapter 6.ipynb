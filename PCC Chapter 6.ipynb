{
 "cells": [
  {
   "cell_type": "markdown",
   "id": "507ef299",
   "metadata": {},
   "source": [
    "## 6-1"
   ]
  },
  {
   "cell_type": "code",
   "execution_count": 2,
   "id": "bfd9027f",
   "metadata": {},
   "outputs": [
    {
     "name": "stdout",
     "output_type": "stream",
     "text": [
      "Alex\n",
      "Reyes\n",
      "20\n",
      "Salem\n"
     ]
    }
   ],
   "source": [
    "friend_0= {'first_name':'Alex', 'last_name':'Reyes', 'age':'20', 'city': 'Salem'}\n",
    "print(friend_0['first_name'])\n",
    "print(friend_0['last_name'])\n",
    "print(friend_0['age'])\n",
    "print(friend_0['city'])"
   ]
  },
  {
   "cell_type": "markdown",
   "id": "4db02827",
   "metadata": {},
   "source": [
    "## 6-2"
   ]
  },
  {
   "cell_type": "code",
   "execution_count": 4,
   "id": "5bc638c9",
   "metadata": {},
   "outputs": [
    {
     "name": "stdout",
     "output_type": "stream",
     "text": [
      "Alex's favorite number is 4.\n",
      "Kathy's favorite number is 17.\n",
      "Viv's favorite number is 3.\n",
      "Kevin's favorite number is 7.\n",
      "Wendy's favorite number is 15.\n"
     ]
    }
   ],
   "source": [
    "favorite_numbers={'alex':'4', 'kathy':'17', 'viv':'3', 'kevin': '7', 'wendy':'15'}\n",
    "print(\"Alex's favorite number is \" +favorite_numbers['alex']+\".\")\n",
    "print(\"Kathy's favorite number is \" +favorite_numbers['kathy']+\".\")\n",
    "print(\"Viv's favorite number is \" +favorite_numbers['viv']+\".\")\n",
    "print(\"Kevin's favorite number is \" +favorite_numbers['kevin']+\".\")\n",
    "print(\"Wendy's favorite number is \" +favorite_numbers['wendy']+\".\")"
   ]
  },
  {
   "cell_type": "markdown",
   "id": "cf77379f",
   "metadata": {},
   "source": [
    "## 6-3"
   ]
  },
  {
   "cell_type": "code",
   "execution_count": 5,
   "id": "40e2c321",
   "metadata": {},
   "outputs": [],
   "source": [
    "python_glossary={'string':'a series of characters', 'lists':'collections of information', 'conditional_test':'check any condition of interest', 'if_statements':'code that responds one way if certain conditions are true', 'slice':'a specific group of items in a list'}"
   ]
  },
  {
   "cell_type": "code",
   "execution_count": 19,
   "id": "1e3ee26b",
   "metadata": {},
   "outputs": [
    {
     "name": "stdout",
     "output_type": "stream",
     "text": [
      "string : a series of characters\n",
      "\n",
      "lists : collections of information\n",
      "\n",
      "conditional test : check any condition of interest\n",
      "\n",
      "if statements : code that responds one way if certain conditions are true\n",
      "\n",
      "slice : a specific group of items in a list\n"
     ]
    }
   ],
   "source": [
    "print(\"string \" + \": \" + python_glossary['string'])\n",
    "print(\"\\nlists \" + \": \" + python_glossary['lists'])\n",
    "print(\"\\nconditional test \" + \": \" + python_glossary['conditional_test'])\n",
    "print(\"\\nif statements \" + \": \" + python_glossary['if_statements'])\n",
    "print(\"\\nslice \" + \": \" + python_glossary['slice'])"
   ]
  },
  {
   "cell_type": "markdown",
   "id": "71fd9130",
   "metadata": {},
   "source": [
    "## 6-4"
   ]
  },
  {
   "cell_type": "code",
   "execution_count": 24,
   "id": "67b0d19e",
   "metadata": {},
   "outputs": [],
   "source": [
    " python_glossary={'string':'a series of characters', 'lists':'collections of information', 'conditional_test':'check any condition of interest', 'if_statements':'code that responds one way if certain conditions are true', 'slice':'a specific group of items in a list'}"
   ]
  },
  {
   "cell_type": "code",
   "execution_count": 34,
   "id": "0d228304",
   "metadata": {},
   "outputs": [
    {
     "name": "stdout",
     "output_type": "stream",
     "text": [
      "\n",
      "key: string\n",
      "value: a series of characters\n",
      "\n",
      "key: lists\n",
      "value: collections of information\n",
      "\n",
      "key: conditional_test\n",
      "value: check any condition of interest\n",
      "\n",
      "key: if_statements\n",
      "value: code that responds one way if certain conditions are true\n",
      "\n",
      "key: slice\n",
      "value: a specific group of items in a list\n"
     ]
    }
   ],
   "source": [
    "for key, value in python_glossary.items():\n",
    "    print(\"\\nkey: \" + key)\n",
    "    print(\"value: \" + value)"
   ]
  },
  {
   "cell_type": "markdown",
   "id": "0b8cda5e",
   "metadata": {},
   "source": [
    "## 6-5"
   ]
  },
  {
   "cell_type": "code",
   "execution_count": 43,
   "id": "84dd731c",
   "metadata": {},
   "outputs": [
    {
     "name": "stdout",
     "output_type": "stream",
     "text": [
      "The Nile runs through Egypt.\n",
      "The Rio Grande runs through Mexico.\n",
      "The Niger runs through Nigeria.\n"
     ]
    }
   ],
   "source": [
    "rivers={'nile':'egypt', 'rio grande':'mexico', 'niger':'nigeria'}\n",
    "for river, country in rivers.items():\n",
    "    print(\"The \" + river.title() + \" runs through \" +\n",
    "              country.title() + \".\")"
   ]
  },
  {
   "cell_type": "code",
   "execution_count": 45,
   "id": "47098995",
   "metadata": {},
   "outputs": [
    {
     "name": "stdout",
     "output_type": "stream",
     "text": [
      "Nile\n",
      "Rio Grande\n",
      "Niger\n"
     ]
    }
   ],
   "source": [
    "for river in rivers.keys():\n",
    "    print(river.title())"
   ]
  },
  {
   "cell_type": "code",
   "execution_count": 46,
   "id": "bed2760b",
   "metadata": {},
   "outputs": [
    {
     "name": "stdout",
     "output_type": "stream",
     "text": [
      "Egypt\n",
      "Mexico\n",
      "Nigeria\n"
     ]
    }
   ],
   "source": [
    "for country in rivers.values():\n",
    "    print(country.title())"
   ]
  },
  {
   "cell_type": "markdown",
   "id": "8af206e6",
   "metadata": {},
   "source": [
    "## 6-6"
   ]
  },
  {
   "cell_type": "code",
   "execution_count": 86,
   "id": "22f58e64",
   "metadata": {},
   "outputs": [],
   "source": [
    "poll_takers= ['kathy', 'kevin', 'jen', 'sarah', 'alex', 'phil', 'carlos']"
   ]
  },
  {
   "cell_type": "code",
   "execution_count": 90,
   "id": "1782566f",
   "metadata": {},
   "outputs": [
    {
     "name": "stdout",
     "output_type": "stream",
     "text": [
      "Kathy\n",
      "Kathy, you're invited to complete the poll!\n",
      "Kevin\n",
      "Kevin, you're invited to complete the poll!\n",
      "Jen\n",
      "Jen, thank you for your response!\n",
      "Sarah\n",
      "Sarah, thank you for your response!\n",
      "Alex\n",
      "Alex, you're invited to complete the poll!\n",
      "Phil\n",
      "Phil, thank you for your response!\n",
      "Carlos\n",
      "Carlos, you're invited to complete the poll!\n"
     ]
    }
   ],
   "source": [
    "past_voters= ['jen', 'sarah', 'phil']\n",
    "for people in poll_takers:\n",
    "    print(people.title())\n",
    "\n",
    "    if people in past_voters:\n",
    "        print(people.title() + \", thank you for your response!\")\n",
    "    elif people not in past_voters:\n",
    "        print(people.title() + \", you're invited to complete the poll!\")"
   ]
  },
  {
   "cell_type": "markdown",
   "id": "17a234a1",
   "metadata": {},
   "source": [
    "## 6-7"
   ]
  },
  {
   "cell_type": "code",
   "execution_count": 111,
   "id": "2fd552d5",
   "metadata": {},
   "outputs": [
    {
     "name": "stdout",
     "output_type": "stream",
     "text": [
      "{'first_name': 'Alex', 'last_name': 'Reyes', 'age': '20', 'city': 'Salem'}\n",
      "{'first_name': 'Viv', 'last_name': 'Stulack', 'age': '21', 'city': 'philly'}\n",
      "{'first_name': 'kevin', 'last_name': 'Arellano', 'age': '20', 'city': 'los_angeles'}\n"
     ]
    }
   ],
   "source": [
    "people=[]\n",
    "friend= {'first_name':'Alex', 'last_name':'Reyes', 'age':'20', 'city': 'Salem'}\n",
    "people.append(friend)\n",
    "friend= {'first_name': 'Viv', 'last_name': 'Stulack', 'age':'21', 'city':'philly'}\n",
    "people.append(friend)\n",
    "friend= {'first_name': 'kevin', 'last_name': 'Arellano', 'age':'20', 'city':'los_angeles'}\n",
    "people.append(friend)\n",
    "\n",
    "for friend in people:\n",
    "    print(friend)"
   ]
  },
  {
   "cell_type": "markdown",
   "id": "c2c1bf94",
   "metadata": {},
   "source": [
    "## 6-8"
   ]
  },
  {
   "cell_type": "code",
   "execution_count": 112,
   "id": "f83bce2f",
   "metadata": {},
   "outputs": [
    {
     "name": "stdout",
     "output_type": "stream",
     "text": [
      "{'breed': 'yorkie', 'owner': 'jonny'}\n",
      "{'breed': 'yorkie', 'owner': 'fredy'}\n",
      "{'breed': 'husky', 'owner': 'fredy'}\n"
     ]
    }
   ],
   "source": [
    "pets=[]\n",
    "ted={'breed':'yorkie', 'owner':'jonny'}\n",
    "pets.append(ted)\n",
    "marley={'breed':'yorkie', 'owner':'fredy'}\n",
    "pets.append(marley)\n",
    "blue= {'breed':'husky', 'owner':'fredy'}\n",
    "pets.append(blue)\n",
    "\n",
    "for pet in pets:\n",
    "    print(pet)"
   ]
  },
  {
   "cell_type": "markdown",
   "id": "b98c12da",
   "metadata": {},
   "source": [
    "## 6-9"
   ]
  },
  {
   "cell_type": "code",
   "execution_count": 114,
   "id": "2e88e033",
   "metadata": {},
   "outputs": [
    {
     "name": "stdout",
     "output_type": "stream",
     "text": [
      "Alex loves Davis_Sqaure.\n",
      "Janely loves California.\n",
      "Viv loves New_York.\n"
     ]
    }
   ],
   "source": [
    "favorite_places={'alex':'davis_sqaure', 'janely':'california', 'viv':'new_york'}\n",
    "for people,  places in favorite_places.items():\n",
    "    print(people.title() + \" loves \" +\n",
    "              places.title() + \".\")"
   ]
  },
  {
   "cell_type": "markdown",
   "id": "df953ec8",
   "metadata": {},
   "source": [
    "## 6-11"
   ]
  },
  {
   "cell_type": "code",
   "execution_count": 123,
   "id": "cbc1a552",
   "metadata": {},
   "outputs": [
    {
     "name": "stdout",
     "output_type": "stream",
     "text": [
      "\n",
      "city: boston\n",
      "\tcountry: United States\n",
      "\tpopulation: 654_776\n",
      "\tfact: It Has The Oldest Public Park In The Us.\n",
      "\n",
      "city: miami\n",
      "\tcountry: United States\n",
      "\tpopulation: 439_890\n",
      "\tfact: The Only Us City To Be Founded By A Woman.\n",
      "\n",
      "city: compton\n",
      "\tcountry: United States\n",
      "\tpopulation: 93_597\n",
      "\tfact: Nicknamed As The \"Hub City\".\n"
     ]
    }
   ],
   "source": [
    "cities={\n",
    "    'boston':{\n",
    "        'country':'united states', \n",
    "        'population': '654_776', \n",
    "        'fact':'It has the oldest public park in the US.',\n",
    "        },\n",
    "    'miami':{\n",
    "        'country': 'united states', \n",
    "        'population': '439_890', \n",
    "        'fact': 'The only US city to be founded by a woman.',\n",
    "        },\n",
    "    'compton':{\n",
    "        'country': 'united states',\n",
    "        'population': '93_597', \n",
    "        'fact': 'Nicknamed as the \"Hub City\".',\n",
    "        },\n",
    "}\n",
    "\n",
    "for city, city_info in cities.items():\n",
    "    print(\"\\ncity: \"+ city)\n",
    "    country= city_info['country']\n",
    "    population= city_info['population']\n",
    "    fact= city_info['fact']\n",
    "    \n",
    "    print(\"\\tcountry: \" + country.title())\n",
    "    print(\"\\tpopulation: \" + population.title())\n",
    "    print(\"\\tfact: \" + fact.title())"
   ]
  },
  {
   "cell_type": "code",
   "execution_count": null,
   "id": "80173913",
   "metadata": {},
   "outputs": [],
   "source": []
  }
 ],
 "metadata": {
  "kernelspec": {
   "display_name": "Python 3 (ipykernel)",
   "language": "python",
   "name": "python3"
  },
  "language_info": {
   "codemirror_mode": {
    "name": "ipython",
    "version": 3
   },
   "file_extension": ".py",
   "mimetype": "text/x-python",
   "name": "python",
   "nbconvert_exporter": "python",
   "pygments_lexer": "ipython3",
   "version": "3.11.4"
  }
 },
 "nbformat": 4,
 "nbformat_minor": 5
}
