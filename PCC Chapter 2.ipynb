{
 "cells": [
  {
   "cell_type": "markdown",
   "id": "0bac34a2",
   "metadata": {},
   "source": [
    "# Chapter Two Homework"
   ]
  },
  {
   "cell_type": "markdown",
   "id": "d4caf2fa",
   "metadata": {},
   "source": [
    "## 2-1"
   ]
  },
  {
   "cell_type": "code",
   "execution_count": 1,
   "id": "fd065524",
   "metadata": {},
   "outputs": [
    {
     "name": "stdout",
     "output_type": "stream",
     "text": [
      "I've already done this\n"
     ]
    }
   ],
   "source": [
    "message =\"I've already done this\"\n",
    "print(message)"
   ]
  },
  {
   "cell_type": "markdown",
   "id": "427baa2e",
   "metadata": {},
   "source": [
    "## 2-2"
   ]
  },
  {
   "cell_type": "code",
   "execution_count": 2,
   "id": "5cc828c6",
   "metadata": {},
   "outputs": [
    {
     "name": "stdout",
     "output_type": "stream",
     "text": [
      "I love tufts!\n"
     ]
    }
   ],
   "source": [
    "message = \"I love tufts!\"\n",
    "print(message)"
   ]
  },
  {
   "cell_type": "code",
   "execution_count": 3,
   "id": "fe6130a4",
   "metadata": {},
   "outputs": [
    {
     "name": "stdout",
     "output_type": "stream",
     "text": [
      "I really love tufts!\n"
     ]
    }
   ],
   "source": [
    "message = \"I really love tufts!\"\n",
    "print(message)"
   ]
  },
  {
   "cell_type": "markdown",
   "id": "bc762bcb",
   "metadata": {},
   "source": [
    "## 2-3"
   ]
  },
  {
   "cell_type": "code",
   "execution_count": 4,
   "id": "e0d5e04b",
   "metadata": {},
   "outputs": [],
   "source": [
    "message = \"Hello Wendy, would you like to learn some Python today?\""
   ]
  },
  {
   "cell_type": "code",
   "execution_count": 5,
   "id": "983732e4",
   "metadata": {},
   "outputs": [
    {
     "name": "stdout",
     "output_type": "stream",
     "text": [
      "Hello Wendy, would you like to learn some Python today?\n"
     ]
    }
   ],
   "source": [
    "print(message)"
   ]
  },
  {
   "cell_type": "markdown",
   "id": "e403cf38",
   "metadata": {},
   "source": [
    "## 2-4"
   ]
  },
  {
   "cell_type": "code",
   "execution_count": 10,
   "id": "c0ba8a2b",
   "metadata": {},
   "outputs": [
    {
     "name": "stdout",
     "output_type": "stream",
     "text": [
      "Wendy\n",
      "wendy\n",
      "WENDY\n"
     ]
    }
   ],
   "source": [
    "name=\"Wendy\"\n",
    "print(name.title())\n",
    "print(name.lower())\n",
    "print(name.upper())"
   ]
  },
  {
   "cell_type": "markdown",
   "id": "e2476fab",
   "metadata": {},
   "source": [
    "## 2-5"
   ]
  },
  {
   "cell_type": "code",
   "execution_count": 11,
   "id": "ef0778b8",
   "metadata": {},
   "outputs": [
    {
     "name": "stdout",
     "output_type": "stream",
     "text": [
      "Frida kahlo once said,'Pinto flores para que no mueran.'\n"
     ]
    }
   ],
   "source": [
    "message=\"Frida kahlo once said,'Pinto flores para que no mueran.'\"\n",
    "print(message)"
   ]
  },
  {
   "cell_type": "markdown",
   "id": "ad5807c4",
   "metadata": {},
   "source": [
    "## 2-6"
   ]
  },
  {
   "cell_type": "code",
   "execution_count": 12,
   "id": "477d2cc2",
   "metadata": {},
   "outputs": [],
   "source": [
    "famous_person=\"Frida Kahlo \""
   ]
  },
  {
   "cell_type": "code",
   "execution_count": 21,
   "id": "2c5d48c5",
   "metadata": {},
   "outputs": [
    {
     "name": "stdout",
     "output_type": "stream",
     "text": [
      "Frida Kahlo\n"
     ]
    }
   ],
   "source": [
    "print(famous_person)"
   ]
  },
  {
   "cell_type": "code",
   "execution_count": 22,
   "id": "61785a34",
   "metadata": {},
   "outputs": [],
   "source": [
    "message=\" once said, 'Pinto flores para que no mueran.' \""
   ]
  },
  {
   "cell_type": "code",
   "execution_count": 23,
   "id": "a3ce2c00",
   "metadata": {},
   "outputs": [
    {
     "name": "stdout",
     "output_type": "stream",
     "text": [
      "Frida Kahlo once said, 'Pinto flores para que no mueran.' \n"
     ]
    }
   ],
   "source": [
    "print(famous_person + message )"
   ]
  },
  {
   "cell_type": "markdown",
   "id": "087df7b5",
   "metadata": {},
   "source": [
    "## 2-7"
   ]
  },
  {
   "cell_type": "code",
   "execution_count": 36,
   "id": "2ffd7088",
   "metadata": {},
   "outputs": [
    {
     "name": "stdout",
     "output_type": "stream",
     "text": [
      "kathy\n"
     ]
    }
   ],
   "source": [
    "message=\"kathy\"\n",
    "print(message)"
   ]
  },
  {
   "cell_type": "code",
   "execution_count": 30,
   "id": "0743d793",
   "metadata": {},
   "outputs": [
    {
     "name": "stdout",
     "output_type": "stream",
     "text": [
      "\n",
      "kathy\n"
     ]
    }
   ],
   "source": [
    "print(\"\\nkathy\")"
   ]
  },
  {
   "cell_type": "code",
   "execution_count": 29,
   "id": "46ec3ab1",
   "metadata": {},
   "outputs": [
    {
     "name": "stdout",
     "output_type": "stream",
     "text": [
      "\tkathy\n"
     ]
    }
   ],
   "source": [
    "print(\"\\tkathy\")"
   ]
  },
  {
   "cell_type": "code",
   "execution_count": 45,
   "id": "81539b0d",
   "metadata": {},
   "outputs": [
    {
     "name": "stdout",
     "output_type": "stream",
     "text": [
      "kathy\t\n"
     ]
    }
   ],
   "source": [
    "print(\"kathy\\t\")"
   ]
  },
  {
   "cell_type": "code",
   "execution_count": 33,
   "id": "5d797ea7",
   "metadata": {},
   "outputs": [
    {
     "name": "stdout",
     "output_type": "stream",
     "text": [
      "\n",
      "\tkathy\n"
     ]
    }
   ],
   "source": [
    "print(\"\\n\\tkathy\")"
   ]
  },
  {
   "cell_type": "code",
   "execution_count": 48,
   "id": "3e8d655d",
   "metadata": {},
   "outputs": [
    {
     "name": "stdout",
     "output_type": "stream",
     "text": [
      " kathy\n",
      "kathy\n"
     ]
    }
   ],
   "source": [
    "name=\" kathy\"\n",
    "print(name)\n",
    "print(name.lstrip())"
   ]
  },
  {
   "cell_type": "code",
   "execution_count": 50,
   "id": "e973ad3d",
   "metadata": {},
   "outputs": [
    {
     "name": "stdout",
     "output_type": "stream",
     "text": [
      "kathy \n",
      "kathy\n"
     ]
    }
   ],
   "source": [
    "name=\"kathy \"\n",
    "print(name)\n",
    "print(name.rstrip())"
   ]
  },
  {
   "cell_type": "code",
   "execution_count": 51,
   "id": "07415416",
   "metadata": {},
   "outputs": [
    {
     "name": "stdout",
     "output_type": "stream",
     "text": [
      " kathy \n",
      "kathy\n"
     ]
    }
   ],
   "source": [
    "name=\" kathy \"\n",
    "print(name)\n",
    "print(name.strip())"
   ]
  },
  {
   "cell_type": "markdown",
   "id": "2b827b8f",
   "metadata": {},
   "source": [
    "## 2-10"
   ]
  },
  {
   "cell_type": "code",
   "execution_count": 54,
   "id": "e260d92f",
   "metadata": {},
   "outputs": [
    {
     "name": "stdout",
     "output_type": "stream",
     "text": [
      "Frida Kahlo\n"
     ]
    }
   ],
   "source": [
    "#add space before each variable to prevent word merging\n",
    "print(famous_person)"
   ]
  },
  {
   "cell_type": "code",
   "execution_count": 55,
   "id": "15b52e7b",
   "metadata": {},
   "outputs": [
    {
     "name": "stdout",
     "output_type": "stream",
     "text": [
      "I really love tufts!\n"
     ]
    }
   ],
   "source": [
    "#Jasmin 09/20 The program is changing the message by adding the word really\n",
    "message = \"I really love tufts!\"\n",
    "print(message)"
   ]
  },
  {
   "cell_type": "code",
   "execution_count": null,
   "id": "140c4746",
   "metadata": {},
   "outputs": [],
   "source": []
  }
 ],
 "metadata": {
  "kernelspec": {
   "display_name": "Python 3 (ipykernel)",
   "language": "python",
   "name": "python3"
  },
  "language_info": {
   "codemirror_mode": {
    "name": "ipython",
    "version": 3
   },
   "file_extension": ".py",
   "mimetype": "text/x-python",
   "name": "python",
   "nbconvert_exporter": "python",
   "pygments_lexer": "ipython3",
   "version": "3.11.4"
  }
 },
 "nbformat": 4,
 "nbformat_minor": 5
}
