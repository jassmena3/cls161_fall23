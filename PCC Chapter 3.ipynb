{
 "cells": [
  {
   "cell_type": "markdown",
   "id": "eb626520",
   "metadata": {},
   "source": [
    "# Chapter 3 Homework"
   ]
  },
  {
   "cell_type": "markdown",
   "id": "d16aa1c4",
   "metadata": {},
   "source": [
    "## 3-1"
   ]
  },
  {
   "cell_type": "code",
   "execution_count": 2,
   "id": "a17d6c49",
   "metadata": {},
   "outputs": [
    {
     "name": "stdout",
     "output_type": "stream",
     "text": [
      "['kevin', 'kathy', 'viv']\n"
     ]
    }
   ],
   "source": [
    "names=['kevin', 'kathy', 'viv']\n",
    "print(names)"
   ]
  },
  {
   "cell_type": "code",
   "execution_count": 3,
   "id": "d6bf1c0e",
   "metadata": {},
   "outputs": [
    {
     "name": "stdout",
     "output_type": "stream",
     "text": [
      "kevin\n",
      "kathy\n",
      "viv\n"
     ]
    }
   ],
   "source": [
    "names=['kevin', 'kathy', 'viv']\n",
    "print(names[0])\n",
    "print(names[1])\n",
    "print(names[2])"
   ]
  },
  {
   "cell_type": "markdown",
   "id": "67a4e1db",
   "metadata": {},
   "source": [
    "## 3-2"
   ]
  },
  {
   "cell_type": "code",
   "execution_count": 5,
   "id": "cef8fdb9",
   "metadata": {},
   "outputs": [
    {
     "name": "stdout",
     "output_type": "stream",
     "text": [
      "kevin is an amazing friend!\n",
      "kathy is an amazing friend!\n",
      "viv is an amazing friend!\n"
     ]
    }
   ],
   "source": [
    "message=\" is an amazing friend!\"\n",
    "print(names[0] + message)\n",
    "print(names[1] + message)\n",
    "print(names[2] + message)"
   ]
  },
  {
   "cell_type": "markdown",
   "id": "524220c9",
   "metadata": {},
   "source": [
    "## 3-3"
   ]
  },
  {
   "cell_type": "code",
   "execution_count": 12,
   "id": "aaafed9e",
   "metadata": {},
   "outputs": [
    {
     "name": "stdout",
     "output_type": "stream",
     "text": [
      "['BMW', 'Honda', 'Toyota', 'Nissan']\n"
     ]
    }
   ],
   "source": [
    "Cars=['BMW', 'Honda', 'Toyota', 'Nissan']\n",
    "print(Cars)"
   ]
  },
  {
   "cell_type": "code",
   "execution_count": 17,
   "id": "c45fd297",
   "metadata": {},
   "outputs": [
    {
     "name": "stdout",
     "output_type": "stream",
     "text": [
      "I enjoyed the tires on BMW.\n",
      "I enjoyed the tires on Honda.\n",
      "I enjoyed the tires on Toyota.\n",
      "I enjoyed the tires on Nissan.\n"
     ]
    }
   ],
   "source": [
    "message=\"I enjoyed the tires on \"\n",
    "print(message + Cars[0] + \".\")\n",
    "print(message + Cars[1] + \".\")\n",
    "print(message + Cars[2] + \".\")\n",
    "print(message + Cars[3] + \".\")"
   ]
  },
  {
   "cell_type": "markdown",
   "id": "3a58364a",
   "metadata": {},
   "source": [
    "## 3-4"
   ]
  },
  {
   "cell_type": "code",
   "execution_count": 111,
   "id": "278bcec2",
   "metadata": {},
   "outputs": [
    {
     "name": "stdout",
     "output_type": "stream",
     "text": [
      "Omar Apollo , I would like to formally invite you to my dinner party!\n",
      "Dominic Fike , I would like to formally invite you to my dinner party!\n",
      "Jessie Reyez , I would like to formally invite you to my dinner party!\n"
     ]
    }
   ],
   "source": [
    "list=[\"Omar Apollo\", \"Dominic Fike\", \"Jessie Reyez\"]\n",
    "message=\" , I would like to formally invite you to my dinner party!\"\n",
    "print(list[0] + message)\n",
    "print(list[1] + message)\n",
    "print(list[2] + message)"
   ]
  },
  {
   "cell_type": "markdown",
   "id": "5fab545d",
   "metadata": {},
   "source": [
    "## 3-5"
   ]
  },
  {
   "cell_type": "code",
   "execution_count": 112,
   "id": "ca236da2",
   "metadata": {},
   "outputs": [
    {
     "name": "stdout",
     "output_type": "stream",
     "text": [
      "Jessie Reyez\n"
     ]
    }
   ],
   "source": [
    "print(list[2])"
   ]
  },
  {
   "cell_type": "code",
   "execution_count": 113,
   "id": "bdb3a9de",
   "metadata": {},
   "outputs": [],
   "source": [
    "list.remove('Jessie Reyez')"
   ]
  },
  {
   "cell_type": "code",
   "execution_count": 114,
   "id": "9471b1d0",
   "metadata": {},
   "outputs": [
    {
     "name": "stdout",
     "output_type": "stream",
     "text": [
      "['Omar Apollo', 'Dominic Fike']\n"
     ]
    }
   ],
   "source": [
    "print(list)"
   ]
  },
  {
   "cell_type": "code",
   "execution_count": 115,
   "id": "14600904",
   "metadata": {},
   "outputs": [],
   "source": [
    "list.insert(2, 'Beyonce')"
   ]
  },
  {
   "cell_type": "code",
   "execution_count": 116,
   "id": "e7d105cd",
   "metadata": {},
   "outputs": [
    {
     "name": "stdout",
     "output_type": "stream",
     "text": [
      "['Omar Apollo', 'Dominic Fike', 'Beyonce']\n"
     ]
    }
   ],
   "source": [
    "print(list)"
   ]
  },
  {
   "cell_type": "code",
   "execution_count": 117,
   "id": "407adff8",
   "metadata": {},
   "outputs": [
    {
     "name": "stdout",
     "output_type": "stream",
     "text": [
      "Omar Apollo , I would like to formally invite you to my dinner party!\n",
      "Dominic Fike , I would like to formally invite you to my dinner party!\n",
      "Beyonce , I would like to formally invite you to my dinner party!\n"
     ]
    }
   ],
   "source": [
    "print(list[0] + message)\n",
    "print(list[1] + message)\n",
    "print(list[2] + message)"
   ]
  },
  {
   "cell_type": "markdown",
   "id": "4cdf3ace",
   "metadata": {},
   "source": [
    "## 3-6"
   ]
  },
  {
   "cell_type": "code",
   "execution_count": 118,
   "id": "2a8f87ba",
   "metadata": {},
   "outputs": [
    {
     "name": "stdout",
     "output_type": "stream",
     "text": [
      "Omar Apollo , I would like to formally invite you to my dinner party!I found a bigger dinner table ,so I can invite more friends!\n",
      "Dominic Fike , I would like to formally invite you to my dinner party!I found a bigger dinner table ,so I can invite more friends!\n",
      "Beyonce , I would like to formally invite you to my dinner party!I found a bigger dinner table ,so I can invite more friends!\n"
     ]
    }
   ],
   "source": [
    "print(list[0] + message + \"I found a bigger dinner table ,so I can invite more friends!\")\n",
    "print(list[1] + message + \"I found a bigger dinner table ,so I can invite more friends!\")\n",
    "print(list[2] + message + \"I found a bigger dinner table ,so I can invite more friends!\")"
   ]
  },
  {
   "cell_type": "code",
   "execution_count": 119,
   "id": "1244ab21",
   "metadata": {},
   "outputs": [],
   "source": [
    "list.insert(-0, 'Prince')"
   ]
  },
  {
   "cell_type": "code",
   "execution_count": 120,
   "id": "5cdb11a7",
   "metadata": {},
   "outputs": [
    {
     "name": "stdout",
     "output_type": "stream",
     "text": [
      "['Prince', 'Omar Apollo', 'Dominic Fike', 'Beyonce']\n"
     ]
    }
   ],
   "source": [
    "print(list)"
   ]
  },
  {
   "cell_type": "code",
   "execution_count": 121,
   "id": "a48d5f17",
   "metadata": {},
   "outputs": [],
   "source": [
    "list.insert(-2, 'Kali Uchis')"
   ]
  },
  {
   "cell_type": "code",
   "execution_count": 122,
   "id": "2e6f028d",
   "metadata": {},
   "outputs": [
    {
     "name": "stdout",
     "output_type": "stream",
     "text": [
      "['Prince', 'Omar Apollo', 'Kali Uchis', 'Dominic Fike', 'Beyonce']\n"
     ]
    }
   ],
   "source": [
    "print(list)"
   ]
  },
  {
   "cell_type": "code",
   "execution_count": 123,
   "id": "e0b28421",
   "metadata": {},
   "outputs": [],
   "source": [
    "list.append('Kelly Clarkson')"
   ]
  },
  {
   "cell_type": "code",
   "execution_count": 124,
   "id": "8ff1e862",
   "metadata": {},
   "outputs": [
    {
     "name": "stdout",
     "output_type": "stream",
     "text": [
      "['Prince', 'Omar Apollo', 'Kali Uchis', 'Dominic Fike', 'Beyonce', 'Kelly Clarkson']\n"
     ]
    }
   ],
   "source": [
    "print(list)"
   ]
  },
  {
   "cell_type": "code",
   "execution_count": 127,
   "id": "6ebf7818",
   "metadata": {},
   "outputs": [
    {
     "name": "stdout",
     "output_type": "stream",
     "text": [
      "Prince , I would like to formally invite you to my dinner party!I would like to formally invite you to my dinner party!I found a bigger dinner table ,so I can invite more friends!\n",
      "Omar Apollo , I would like to formally invite you to my dinner party!I would like to formally invite you to my dinner party!I found a bigger dinner table ,so I can invite more friends!\n",
      "Kali Uchis , I would like to formally invite you to my dinner party!I would like to formally invite you to my dinner party!I found a bigger dinner table ,so I can invite more friends!\n",
      "Dominic Fike , I would like to formally invite you to my dinner party!I would like to formally invite you to my dinner party!I found a bigger dinner table ,so I can invite more friends!\n",
      "Beyonce , I would like to formally invite you to my dinner party!I would like to formally invite you to my dinner party!I found a bigger dinner table ,so I can invite more friends!\n",
      "Kelly Clarkson , I would like to formally invite you to my dinner party!I would like to formally invite you to my dinner party!I found a bigger dinner table ,so I can invite more friends!\n"
     ]
    }
   ],
   "source": [
    "print(list[0] + message + \"I would like to formally invite you to my dinner party!I found a bigger dinner table ,so I can invite more friends!\")\n",
    "print(list[1] + message + \"I would like to formally invite you to my dinner party!I found a bigger dinner table ,so I can invite more friends!\")\n",
    "print(list[2] + message + \"I would like to formally invite you to my dinner party!I found a bigger dinner table ,so I can invite more friends!\")\n",
    "print(list[3] + message + \"I would like to formally invite you to my dinner party!I found a bigger dinner table ,so I can invite more friends!\")\n",
    "print(list[4] + message + \"I would like to formally invite you to my dinner party!I found a bigger dinner table ,so I can invite more friends!\")\n",
    "print(list[5] + message + \"I would like to formally invite you to my dinner party!I found a bigger dinner table ,so I can invite more friends!\")"
   ]
  },
  {
   "cell_type": "markdown",
   "id": "bc3c9a79",
   "metadata": {},
   "source": [
    "## 3-7"
   ]
  },
  {
   "cell_type": "code",
   "execution_count": 128,
   "id": "434bf54e",
   "metadata": {},
   "outputs": [
    {
     "name": "stdout",
     "output_type": "stream",
     "text": [
      "\n",
      "Unfortuately, I can only invite two people for dinner\n"
     ]
    }
   ],
   "source": [
    "print(\"\\nUnfortuately, I can only invite two people for dinner\")"
   ]
  },
  {
   "cell_type": "code",
   "execution_count": 129,
   "id": "1e18253a",
   "metadata": {},
   "outputs": [],
   "source": [
    "popped_list=list.pop()"
   ]
  },
  {
   "cell_type": "code",
   "execution_count": 130,
   "id": "d501afa7",
   "metadata": {},
   "outputs": [
    {
     "name": "stdout",
     "output_type": "stream",
     "text": [
      "['Prince', 'Omar Apollo', 'Kali Uchis', 'Dominic Fike', 'Beyonce']\n"
     ]
    }
   ],
   "source": [
    "print(list)"
   ]
  },
  {
   "cell_type": "code",
   "execution_count": 131,
   "id": "467b7d9f",
   "metadata": {
    "scrolled": true
   },
   "outputs": [
    {
     "name": "stdout",
     "output_type": "stream",
     "text": [
      "Kelly Clarkson , Im so sorry, but I can no longer invite you to dinner bestie!\n"
     ]
    }
   ],
   "source": [
    "print(popped_list + ' , Im so sorry, but I can no longer invite you to dinner bestie!')"
   ]
  },
  {
   "cell_type": "code",
   "execution_count": 132,
   "id": "0bc116f2",
   "metadata": {},
   "outputs": [],
   "source": [
    "popped_list=list.pop()"
   ]
  },
  {
   "cell_type": "code",
   "execution_count": 133,
   "id": "12403f44",
   "metadata": {},
   "outputs": [
    {
     "name": "stdout",
     "output_type": "stream",
     "text": [
      "['Prince', 'Omar Apollo', 'Kali Uchis', 'Dominic Fike']\n"
     ]
    }
   ],
   "source": [
    "print(list)"
   ]
  },
  {
   "cell_type": "code",
   "execution_count": 134,
   "id": "6bbb0c78",
   "metadata": {},
   "outputs": [
    {
     "name": "stdout",
     "output_type": "stream",
     "text": [
      "Beyonce ,Im so sorry, but I can no longer invite you to my dinner best!\n"
     ]
    }
   ],
   "source": [
    "print(popped_list + ' ,Im so sorry, but I can no longer invite you to my dinner best!')"
   ]
  },
  {
   "cell_type": "code",
   "execution_count": 135,
   "id": "4f434a60",
   "metadata": {},
   "outputs": [],
   "source": [
    "popped_list=list.pop()"
   ]
  },
  {
   "cell_type": "code",
   "execution_count": 136,
   "id": "63eb5f69",
   "metadata": {},
   "outputs": [
    {
     "name": "stdout",
     "output_type": "stream",
     "text": [
      "['Prince', 'Omar Apollo', 'Kali Uchis']\n"
     ]
    }
   ],
   "source": [
    "print(list)"
   ]
  },
  {
   "cell_type": "code",
   "execution_count": 137,
   "id": "ff7a8f32",
   "metadata": {},
   "outputs": [
    {
     "name": "stdout",
     "output_type": "stream",
     "text": [
      "Dominic Fike , Im so sorry, but I can no longer invite you to my dinner bestie!\n"
     ]
    }
   ],
   "source": [
    "print(popped_list + ' , Im so sorry, but I can no longer invite you to my dinner bestie!')"
   ]
  },
  {
   "cell_type": "code",
   "execution_count": 138,
   "id": "6b741035",
   "metadata": {},
   "outputs": [],
   "source": [
    "popped_list=list.pop()"
   ]
  },
  {
   "cell_type": "code",
   "execution_count": 139,
   "id": "f1c107e2",
   "metadata": {},
   "outputs": [
    {
     "name": "stdout",
     "output_type": "stream",
     "text": [
      "['Prince', 'Omar Apollo']\n"
     ]
    }
   ],
   "source": [
    "print(list)"
   ]
  },
  {
   "cell_type": "code",
   "execution_count": 140,
   "id": "c6760780",
   "metadata": {},
   "outputs": [
    {
     "name": "stdout",
     "output_type": "stream",
     "text": [
      "Kali Uchis , Im so sorry, but I can no longer invite you to my dinner bestie!\n"
     ]
    }
   ],
   "source": [
    "print(popped_list + ' , Im so sorry, but I can no longer invite you to my dinner bestie!')"
   ]
  },
  {
   "cell_type": "code",
   "execution_count": 141,
   "id": "d12c4f33",
   "metadata": {},
   "outputs": [],
   "source": [
    "del list[1]"
   ]
  },
  {
   "cell_type": "code",
   "execution_count": 142,
   "id": "955af26b",
   "metadata": {},
   "outputs": [
    {
     "name": "stdout",
     "output_type": "stream",
     "text": [
      "['Prince']\n"
     ]
    }
   ],
   "source": [
    "print(list)"
   ]
  },
  {
   "cell_type": "code",
   "execution_count": 143,
   "id": "281705e1",
   "metadata": {},
   "outputs": [],
   "source": [
    "del list[0]"
   ]
  },
  {
   "cell_type": "code",
   "execution_count": 144,
   "id": "50652796",
   "metadata": {},
   "outputs": [
    {
     "name": "stdout",
     "output_type": "stream",
     "text": [
      "[]\n"
     ]
    }
   ],
   "source": [
    "print(list)"
   ]
  },
  {
   "cell_type": "markdown",
   "id": "3e33046f",
   "metadata": {},
   "source": [
    "## 3-8"
   ]
  },
  {
   "cell_type": "code",
   "execution_count": 158,
   "id": "26efdafd",
   "metadata": {},
   "outputs": [
    {
     "name": "stdout",
     "output_type": "stream",
     "text": [
      "['Paris', 'Mexico', 'New York', 'Boston', 'Philly']\n"
     ]
    }
   ],
   "source": [
    "locations=['Paris', 'Mexico', 'New York', 'Boston', 'Philly']\n",
    "print(locations)"
   ]
  },
  {
   "cell_type": "code",
   "execution_count": 178,
   "id": "5c8bd9d7",
   "metadata": {},
   "outputs": [
    {
     "name": "stdout",
     "output_type": "stream",
     "text": [
      "['Boston', 'Mexico', 'New York', 'Paris', 'Philly']\n",
      "['Paris', 'Mexico', 'New York', 'Boston', 'Philly']\n"
     ]
    }
   ],
   "source": [
    "print(sorted(locations))\n",
    "print(locations)"
   ]
  },
  {
   "cell_type": "code",
   "execution_count": 187,
   "id": "25e59518",
   "metadata": {},
   "outputs": [
    {
     "name": "stdout",
     "output_type": "stream",
     "text": [
      "['Philly', 'Paris', 'New York', 'Mexico', 'Boston']\n",
      "['Paris', 'Mexico', 'New York', 'Boston', 'Philly']\n"
     ]
    }
   ],
   "source": [
    "print(sorted(locations, reverse=True))\n",
    "print(locations)"
   ]
  },
  {
   "cell_type": "code",
   "execution_count": 199,
   "id": "5af553d8",
   "metadata": {},
   "outputs": [
    {
     "name": "stdout",
     "output_type": "stream",
     "text": [
      "['Philly', 'Boston', 'New York', 'Mexico', 'Paris']\n"
     ]
    }
   ],
   "source": [
    "locations=['Paris', 'Mexico', 'New York', 'Boston', 'Philly']\n",
    "(locations.reverse())\n",
    "print(locations)"
   ]
  },
  {
   "cell_type": "code",
   "execution_count": 204,
   "id": "f0c8f3b4",
   "metadata": {},
   "outputs": [
    {
     "name": "stdout",
     "output_type": "stream",
     "text": [
      "['Paris', 'Mexico', 'New York', 'Boston', 'Philly']\n"
     ]
    }
   ],
   "source": [
    "(locations.reverse())\n",
    "print(locations)"
   ]
  },
  {
   "cell_type": "code",
   "execution_count": 205,
   "id": "d7d07038",
   "metadata": {},
   "outputs": [
    {
     "name": "stdout",
     "output_type": "stream",
     "text": [
      "['Boston', 'Mexico', 'New York', 'Paris', 'Philly']\n"
     ]
    }
   ],
   "source": [
    "print(sorted(locations))"
   ]
  },
  {
   "cell_type": "code",
   "execution_count": 206,
   "id": "ad93c330",
   "metadata": {},
   "outputs": [
    {
     "name": "stdout",
     "output_type": "stream",
     "text": [
      "['Philly', 'Paris', 'New York', 'Mexico', 'Boston']\n"
     ]
    }
   ],
   "source": [
    "print(sorted(locations, reverse=True))"
   ]
  },
  {
   "cell_type": "code",
   "execution_count": null,
   "id": "d99dbda9",
   "metadata": {},
   "outputs": [],
   "source": []
  }
 ],
 "metadata": {
  "kernelspec": {
   "display_name": "Python 3 (ipykernel)",
   "language": "python",
   "name": "python3"
  },
  "language_info": {
   "codemirror_mode": {
    "name": "ipython",
    "version": 3
   },
   "file_extension": ".py",
   "mimetype": "text/x-python",
   "name": "python",
   "nbconvert_exporter": "python",
   "pygments_lexer": "ipython3",
   "version": "3.11.4"
  }
 },
 "nbformat": 4,
 "nbformat_minor": 5
}
