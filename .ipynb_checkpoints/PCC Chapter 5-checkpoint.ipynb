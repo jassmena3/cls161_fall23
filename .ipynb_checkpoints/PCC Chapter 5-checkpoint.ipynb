{
 "cells": [
  {
   "cell_type": "markdown",
   "id": "018b2bf9",
   "metadata": {},
   "source": [
    "## 5-1"
   ]
  },
  {
   "cell_type": "code",
   "execution_count": 1,
   "id": "1517bd36",
   "metadata": {},
   "outputs": [
    {
     "name": "stdout",
     "output_type": "stream",
     "text": [
      "Is flower == 'rose'? I predict True.\n",
      "True\n",
      "\n",
      "Is flower == 'tulip'? I predit False.\n",
      "False\n"
     ]
    }
   ],
   "source": [
    "flower= 'rose'\n",
    "print(\"Is flower == 'rose'? I predict True.\")\n",
    "print(flower=='rose')\n",
    "\n",
    "print(\"\\nIs flower == 'tulip'? I predit False.\")\n",
    "print(flower=='tulip')"
   ]
  },
  {
   "cell_type": "code",
   "execution_count": 11,
   "id": "f27e84dd",
   "metadata": {},
   "outputs": [
    {
     "name": "stdout",
     "output_type": "stream",
     "text": [
      "Is takeout =='Chipotle'? I predict True.\n",
      "True\n",
      "\n",
      "Is requested-takeout == 'Subway'? I predict False.\n",
      "False\n"
     ]
    }
   ],
   "source": [
    "requested_takeout ='Chipotle'\n",
    "print(\"Is takeout =='Chipotle'? I predict True.\")\n",
    "print(requested_takeout== 'Chipotle')\n",
    "\n",
    "print(\"\\nIs requested-takeout == 'Subway'? I predict False.\")\n",
    "print(requested_takeout=='Subway')"
   ]
  },
  {
   "cell_type": "code",
   "execution_count": 12,
   "id": "946ff675",
   "metadata": {},
   "outputs": [
    {
     "name": "stdout",
     "output_type": "stream",
     "text": [
      "Is coffee=='Americano'? I predict False.\n",
      "False\n",
      "\n",
      "Is coffee == 'Caramel Macchiato'? I predict True.\n",
      "True\n"
     ]
    }
   ],
   "source": [
    "coffee ='Caramel Macchiato'\n",
    "print(\"Is coffee=='Americano'? I predict False.\")\n",
    "print(coffee== 'Americano')\n",
    "\n",
    "print(\"\\nIs coffee == 'Caramel Macchiato'? I predict True.\")\n",
    "print(coffee=='Caramel Macchiato')"
   ]
  },
  {
   "cell_type": "code",
   "execution_count": 14,
   "id": "2bdf86dd",
   "metadata": {},
   "outputs": [
    {
     "name": "stdout",
     "output_type": "stream",
     "text": [
      "Is soup=='chicken noodle'? I predict False.\n",
      "False\n",
      "\n",
      "Is soup == 'clam chowder'? I predict True.\n",
      "True\n"
     ]
    }
   ],
   "source": [
    "soup='clam chowder'\n",
    "print(\"Is soup=='chicken noodle'? I predict False.\")\n",
    "print(soup== 'chicken noodle')\n",
    "\n",
    "print(\"\\nIs soup == 'clam chowder'? I predict True.\")\n",
    "print(soup=='clam chowder')"
   ]
  },
  {
   "cell_type": "code",
   "execution_count": 15,
   "id": "c1cd2eb8",
   "metadata": {},
   "outputs": [
    {
     "name": "stdout",
     "output_type": "stream",
     "text": [
      "Is shoes =='vans'? I predict True.\n",
      "True\n",
      "\n",
      "Is shoes == 'nikes'? I predict False.\n",
      "False\n"
     ]
    }
   ],
   "source": [
    "shoes ='vans'\n",
    "print(\"Is shoes =='vans'? I predict True.\")\n",
    "print(shoes== 'vans')\n",
    "\n",
    "print(\"\\nIs shoes == 'nikes'? I predict False.\")\n",
    "print(requested_takeout=='nikes')"
   ]
  },
  {
   "cell_type": "markdown",
   "id": "0375fe52",
   "metadata": {},
   "source": [
    "## 5-2"
   ]
  },
  {
   "cell_type": "markdown",
   "id": "ca8d7528",
   "metadata": {},
   "source": [
    "### Info\n",
    "•Tests for equality and inequality with strings\n",
    "•\t Tests using the lower() function\n",
    "•\t Numerical tests involving equality and inequality, greater than and less than, greater than or equal to, and less than or equal to\n",
    "•\t Tests using the and keyword and the or keyword\n",
    "•\t Test whether an item is in a list\n",
    "•\t Test whether an item is not in a list"
   ]
  },
  {
   "cell_type": "code",
   "execution_count": 26,
   "id": "999a8d8d",
   "metadata": {},
   "outputs": [
    {
     "name": "stdout",
     "output_type": "stream",
     "text": [
      "Equal!\n"
     ]
    }
   ],
   "source": [
    "dog_1='Cosmo'\n",
    "dog_2='Nova'\n",
    "dog_3='Cheese'\n",
    "\n",
    "if (dog_1==dog_1):\n",
    "    print('Equal!')\n",
    "else:\n",
    "    print('Unequal!')"
   ]
  },
  {
   "cell_type": "code",
   "execution_count": 29,
   "id": "dcd734e3",
   "metadata": {},
   "outputs": [
    {
     "name": "stdout",
     "output_type": "stream",
     "text": [
      "Unequal!\n"
     ]
    }
   ],
   "source": [
    "if (dog_1 != dog_3):\n",
    "    print('Unequal!')\n",
    "else:\n",
    "    print('Equal!')"
   ]
  },
  {
   "cell_type": "code",
   "execution_count": 31,
   "id": "b4c57cf6",
   "metadata": {},
   "outputs": [
    {
     "data": {
      "text/plain": [
       "False"
      ]
     },
     "execution_count": 31,
     "metadata": {},
     "output_type": "execute_result"
    }
   ],
   "source": [
    "dog_1='Cosmo'\n",
    "dog_1=='cosmo'"
   ]
  },
  {
   "cell_type": "code",
   "execution_count": 32,
   "id": "7f4897a7",
   "metadata": {},
   "outputs": [
    {
     "data": {
      "text/plain": [
       "True"
      ]
     },
     "execution_count": 32,
     "metadata": {},
     "output_type": "execute_result"
    }
   ],
   "source": [
    "dog_2='Nova'\n",
    "dog_2==\"Nova\""
   ]
  },
  {
   "cell_type": "code",
   "execution_count": 33,
   "id": "9637ea43",
   "metadata": {},
   "outputs": [
    {
     "data": {
      "text/plain": [
       "True"
      ]
     },
     "execution_count": 33,
     "metadata": {},
     "output_type": "execute_result"
    }
   ],
   "source": [
    "grade=2\n",
    "grade==2"
   ]
  },
  {
   "cell_type": "code",
   "execution_count": 34,
   "id": "273b47fc",
   "metadata": {},
   "outputs": [
    {
     "data": {
      "text/plain": [
       "False"
      ]
     },
     "execution_count": 34,
     "metadata": {},
     "output_type": "execute_result"
    }
   ],
   "source": [
    "grade=3\n",
    "grade==2"
   ]
  },
  {
   "cell_type": "code",
   "execution_count": 35,
   "id": "d9fb4c5a",
   "metadata": {},
   "outputs": [
    {
     "data": {
      "text/plain": [
       "True"
      ]
     },
     "execution_count": 35,
     "metadata": {},
     "output_type": "execute_result"
    }
   ],
   "source": [
    "grade=4\n",
    "grade<5"
   ]
  },
  {
   "cell_type": "code",
   "execution_count": 39,
   "id": "3f0a80c4",
   "metadata": {},
   "outputs": [
    {
     "data": {
      "text/plain": [
       "False"
      ]
     },
     "execution_count": 39,
     "metadata": {},
     "output_type": "execute_result"
    }
   ],
   "source": [
    "grade=6\n",
    "grade>10"
   ]
  },
  {
   "cell_type": "code",
   "execution_count": 40,
   "id": "4488cd3c",
   "metadata": {},
   "outputs": [
    {
     "data": {
      "text/plain": [
       "True"
      ]
     },
     "execution_count": 40,
     "metadata": {},
     "output_type": "execute_result"
    }
   ],
   "source": [
    "grade=10\n",
    "grade>=5"
   ]
  },
  {
   "cell_type": "code",
   "execution_count": 41,
   "id": "a3bfc84e",
   "metadata": {},
   "outputs": [
    {
     "data": {
      "text/plain": [
       "False"
      ]
     },
     "execution_count": 41,
     "metadata": {},
     "output_type": "execute_result"
    }
   ],
   "source": [
    "grade=8\n",
    "grade<=5"
   ]
  },
  {
   "cell_type": "code",
   "execution_count": 42,
   "id": "89b7b929",
   "metadata": {},
   "outputs": [
    {
     "data": {
      "text/plain": [
       "True"
      ]
     },
     "execution_count": 42,
     "metadata": {},
     "output_type": "execute_result"
    }
   ],
   "source": [
    "grade_0=6\n",
    "grade_1=9\n",
    "grade_1>=5 and grade_0>=5"
   ]
  },
  {
   "cell_type": "code",
   "execution_count": 44,
   "id": "ec8ca5c2",
   "metadata": {},
   "outputs": [
    {
     "data": {
      "text/plain": [
       "False"
      ]
     },
     "execution_count": 44,
     "metadata": {},
     "output_type": "execute_result"
    }
   ],
   "source": [
    "grade_0 <=5 or grade_1<=5"
   ]
  },
  {
   "cell_type": "code",
   "execution_count": 45,
   "id": "ce69264f",
   "metadata": {},
   "outputs": [
    {
     "data": {
      "text/plain": [
       "False"
      ]
     },
     "execution_count": 45,
     "metadata": {},
     "output_type": "execute_result"
    }
   ],
   "source": [
    "sandwich_toppings=['cheese', 'ham', 'bread']\n",
    "'lettuce' in sandwich_toppings"
   ]
  },
  {
   "cell_type": "code",
   "execution_count": 46,
   "id": "ec2de9e5",
   "metadata": {},
   "outputs": [
    {
     "data": {
      "text/plain": [
       "True"
      ]
     },
     "execution_count": 46,
     "metadata": {},
     "output_type": "execute_result"
    }
   ],
   "source": [
    "sandwich_toppings=['cheese', 'ham', 'bread']\n",
    "'cheese' in sandwich_toppings"
   ]
  },
  {
   "cell_type": "code",
   "execution_count": 47,
   "id": "53dbe544",
   "metadata": {},
   "outputs": [
    {
     "name": "stdout",
     "output_type": "stream",
     "text": [
      "Please add pickles to my sandwich please!\n"
     ]
    }
   ],
   "source": [
    "sandwich_toppings=['cheese', 'ham', 'bread']\n",
    "topping='pickles'\n",
    "\n",
    "if topping not in sandwich_toppings:\n",
    "    print(\"Please add \"+ topping + \" to my sandwich please!\")"
   ]
  },
  {
   "cell_type": "markdown",
   "id": "8e928316",
   "metadata": {},
   "source": [
    "## 5-6"
   ]
  },
  {
   "cell_type": "code",
   "execution_count": 61,
   "id": "f4c53155",
   "metadata": {},
   "outputs": [
    {
     "name": "stdout",
     "output_type": "stream",
     "text": [
      "The person is an adult.\n"
     ]
    }
   ],
   "source": [
    "age=19\n",
    "if age <=2:\n",
    "    print(\"The person is a baby.\")\n",
    "elif age <=4:\n",
    "    print(\"The person is a toddler.\")\n",
    "elif age <=13:\n",
    "    print(\"The person is a kid.\")\n",
    "elif age <=20:\n",
    "    print(\"The person is an adult.\")\n",
    "elif age >=65:\n",
    "    print(\"The person is an elder.\")\n",
    "else:\n",
    "    print(\"The person's age is unknown.\")"
   ]
  },
  {
   "cell_type": "markdown",
   "id": "393f7bc8",
   "metadata": {},
   "source": [
    "## 5-7"
   ]
  },
  {
   "cell_type": "code",
   "execution_count": 62,
   "id": "15e72a07",
   "metadata": {},
   "outputs": [
    {
     "name": "stdout",
     "output_type": "stream",
     "text": [
      "You really like mango.\n",
      "You really like kiwi.\n"
     ]
    }
   ],
   "source": [
    "favorite_fruits=['mango', 'kiwi', 'strawberry', 'watermelon']\n",
    "if 'mango' in favorite_fruits:\n",
    "    print('You really like mango.')\n",
    "if 'blueberry' in favorite_fruits:\n",
    "    print ('Adding blueberry.')\n",
    "if 'kiwi' in favorite_fruits:\n",
    "    print ('You really like kiwi.')\n",
    "if 'melon' in favorite_fruits:\n",
    "    print('Adding melon.')\n",
    "if 'papaya' in favorite_fruits:\n",
    "    print ('Adding papaya.')"
   ]
  },
  {
   "cell_type": "markdown",
   "id": "212a2881",
   "metadata": {},
   "source": [
    "## 5-8"
   ]
  },
  {
   "cell_type": "code",
   "execution_count": 64,
   "id": "d0885f8d",
   "metadata": {},
   "outputs": [
    {
     "name": "stdout",
     "output_type": "stream",
     "text": [
      "Hi admin!\n",
      "Hi i_love_dogs!\n",
      "Hi smile123!\n",
      "Hi good_candle!\n",
      "Hi sunsets12!\n"
     ]
    }
   ],
   "source": [
    "usernames=['admin', 'i_love_dogs', 'smile123', 'good_candle', 'sunsets12']\n",
    "for username in usernames:\n",
    "    print('Hi ' +username+ '!')"
   ]
  },
  {
   "cell_type": "code",
   "execution_count": 65,
   "id": "0cdfa1b2",
   "metadata": {},
   "outputs": [
    {
     "name": "stdout",
     "output_type": "stream",
     "text": [
      "Hello admin, would you like to see a status report?\n"
     ]
    }
   ],
   "source": [
    "if 'admin' in usernames:\n",
    "    print('Hello admin, would you like to see a status report?')"
   ]
  },
  {
   "cell_type": "code",
   "execution_count": 68,
   "id": "5414a251",
   "metadata": {},
   "outputs": [
    {
     "name": "stdout",
     "output_type": "stream",
     "text": [
      "Hello Eric, thank you for logging in again.\n"
     ]
    }
   ],
   "source": [
    "if 'Eric'not in usernames:\n",
    "    print(\"Hello Eric, thank you for logging in again.\")"
   ]
  },
  {
   "cell_type": "markdown",
   "id": "f6f8f284",
   "metadata": {},
   "source": [
    "## 5-9"
   ]
  },
  {
   "cell_type": "code",
   "execution_count": 75,
   "id": "e4edc319",
   "metadata": {},
   "outputs": [
    {
     "name": "stdout",
     "output_type": "stream",
     "text": [
      "We need to find some users!\n"
     ]
    }
   ],
   "source": [
    "usernames=[]\n",
    "if usernames:\n",
    "    for username in usernames:\n",
    "        print('Hello'+ username+'thank you for logging in.')\n",
    "else:\n",
    "    print('We need to find some users!')"
   ]
  },
  {
   "cell_type": "markdown",
   "id": "8eb85aa8",
   "metadata": {},
   "source": [
    "## 5-10"
   ]
  },
  {
   "cell_type": "code",
   "execution_count": 78,
   "id": "d34e8e59",
   "metadata": {},
   "outputs": [
    {
     "name": "stdout",
     "output_type": "stream",
     "text": [
      "\n",
      "This username is available.\n",
      "\n",
      "This username is available.\n",
      "\n",
      "This username is available.\n",
      "\n",
      "This username has been taken. \n",
      "Please enter a new username.\n",
      "\n",
      "This username has been taken. \n",
      "Please enter a new username.\n"
     ]
    }
   ],
   "source": [
    "current_users=['bellas_03','tuftsrockz', 'bos_04', 'sogo025', 'sillybo09']\n",
    "\n",
    "new_users=['pitchperfect2', 'viv_08', 'kathy06', 'bos_04', 'tuftsrockz']\n",
    "for new_users in new_users:\n",
    "    if new_users in current_users:\n",
    "        print('\\nThis username has been taken. \\nPlease enter a new username.')\n",
    "    else:\n",
    "        print('\\nThis username is available.')"
   ]
  },
  {
   "cell_type": "code",
   "execution_count": null,
   "id": "5968ef04",
   "metadata": {},
   "outputs": [],
   "source": []
  }
 ],
 "metadata": {
  "kernelspec": {
   "display_name": "Python 3 (ipykernel)",
   "language": "python",
   "name": "python3"
  },
  "language_info": {
   "codemirror_mode": {
    "name": "ipython",
    "version": 3
   },
   "file_extension": ".py",
   "mimetype": "text/x-python",
   "name": "python",
   "nbconvert_exporter": "python",
   "pygments_lexer": "ipython3",
   "version": "3.11.4"
  }
 },
 "nbformat": 4,
 "nbformat_minor": 5
}
