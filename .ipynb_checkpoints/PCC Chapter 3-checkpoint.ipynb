{
 "cells": [
  {
   "cell_type": "markdown",
   "id": "785db1c5",
   "metadata": {},
   "source": [
    "# Chapter 3 Homework"
   ]
  },
  {
   "cell_type": "markdown",
   "id": "2abd6fd8",
   "metadata": {},
   "source": [
    "## 3-1"
   ]
  },
  {
   "cell_type": "code",
   "execution_count": 2,
   "id": "48d8d5e3",
   "metadata": {},
   "outputs": [
    {
     "name": "stdout",
     "output_type": "stream",
     "text": [
      "['kevin', 'kathy', 'viv']\n"
     ]
    }
   ],
   "source": [
    "names=['kevin', 'kathy', 'viv']\n",
    "print(names)"
   ]
  },
  {
   "cell_type": "code",
   "execution_count": 3,
   "id": "e51f8d35",
   "metadata": {},
   "outputs": [
    {
     "name": "stdout",
     "output_type": "stream",
     "text": [
      "kevin\n",
      "kathy\n",
      "viv\n"
     ]
    }
   ],
   "source": [
    "names=['kevin', 'kathy', 'viv']\n",
    "print(names[0])\n",
    "print(names[1])\n",
    "print(names[2])"
   ]
  },
  {
   "cell_type": "markdown",
   "id": "750ec848",
   "metadata": {},
   "source": [
    "## 3-2"
   ]
  },
  {
   "cell_type": "code",
   "execution_count": 5,
   "id": "1e647247",
   "metadata": {},
   "outputs": [
    {
     "name": "stdout",
     "output_type": "stream",
     "text": [
      "kevin is an amazing friend!\n",
      "kathy is an amazing friend!\n",
      "viv is an amazing friend!\n"
     ]
    }
   ],
   "source": [
    "message=\" is an amazing friend!\"\n",
    "print(names[0] + message)\n",
    "print(names[1] + message)\n",
    "print(names[2] + message)"
   ]
  },
  {
   "cell_type": "markdown",
   "id": "63f5afeb",
   "metadata": {},
   "source": [
    "## 3-3"
   ]
  },
  {
   "cell_type": "code",
   "execution_count": 12,
   "id": "f969188f",
   "metadata": {},
   "outputs": [
    {
     "name": "stdout",
     "output_type": "stream",
     "text": [
      "['BMW', 'Honda', 'Toyota', 'Nissan']\n"
     ]
    }
   ],
   "source": [
    "Cars=['BMW', 'Honda', 'Toyota', 'Nissan']\n",
    "print(Cars)"
   ]
  },
  {
   "cell_type": "code",
   "execution_count": 17,
   "id": "b1850b88",
   "metadata": {},
   "outputs": [
    {
     "name": "stdout",
     "output_type": "stream",
     "text": [
      "I enjoyed the tires on BMW.\n",
      "I enjoyed the tires on Honda.\n",
      "I enjoyed the tires on Toyota.\n",
      "I enjoyed the tires on Nissan.\n"
     ]
    }
   ],
   "source": [
    "message=\"I enjoyed the tires on \"\n",
    "print(message + Cars[0] + \".\")\n",
    "print(message + Cars[1] + \".\")\n",
    "print(message + Cars[2] + \".\")\n",
    "print(message + Cars[3] + \".\")"
   ]
  },
  {
   "cell_type": "markdown",
   "id": "83d70be4",
   "metadata": {},
   "source": [
    "## 3-4"
   ]
  },
  {
   "cell_type": "code",
   "execution_count": 111,
   "id": "212d49a8",
   "metadata": {},
   "outputs": [
    {
     "name": "stdout",
     "output_type": "stream",
     "text": [
      "Omar Apollo , I would like to formally invite you to my dinner party!\n",
      "Dominic Fike , I would like to formally invite you to my dinner party!\n",
      "Jessie Reyez , I would like to formally invite you to my dinner party!\n"
     ]
    }
   ],
   "source": [
    "list=[\"Omar Apollo\", \"Dominic Fike\", \"Jessie Reyez\"]\n",
    "message=\" , I would like to formally invite you to my dinner party!\"\n",
    "print(list[0] + message)\n",
    "print(list[1] + message)\n",
    "print(list[2] + message)"
   ]
  },
  {
   "cell_type": "markdown",
   "id": "cb19a962",
   "metadata": {},
   "source": [
    "## 3-5"
   ]
  },
  {
   "cell_type": "code",
   "execution_count": 112,
   "id": "b49fdda8",
   "metadata": {},
   "outputs": [
    {
     "name": "stdout",
     "output_type": "stream",
     "text": [
      "Jessie Reyez\n"
     ]
    }
   ],
   "source": [
    "print(list[2])"
   ]
  },
  {
   "cell_type": "code",
   "execution_count": 113,
   "id": "5bb0f0ef",
   "metadata": {},
   "outputs": [],
   "source": [
    "list.remove('Jessie Reyez')"
   ]
  },
  {
   "cell_type": "code",
   "execution_count": 114,
   "id": "7b7ec74c",
   "metadata": {},
   "outputs": [
    {
     "name": "stdout",
     "output_type": "stream",
     "text": [
      "['Omar Apollo', 'Dominic Fike']\n"
     ]
    }
   ],
   "source": [
    "print(list)"
   ]
  },
  {
   "cell_type": "code",
   "execution_count": 115,
   "id": "8701f62b",
   "metadata": {},
   "outputs": [],
   "source": [
    "list.insert(2, 'Beyonce')"
   ]
  },
  {
   "cell_type": "code",
   "execution_count": 116,
   "id": "124044eb",
   "metadata": {},
   "outputs": [
    {
     "name": "stdout",
     "output_type": "stream",
     "text": [
      "['Omar Apollo', 'Dominic Fike', 'Beyonce']\n"
     ]
    }
   ],
   "source": [
    "print(list)"
   ]
  },
  {
   "cell_type": "code",
   "execution_count": 117,
   "id": "17a6f8be",
   "metadata": {},
   "outputs": [
    {
     "name": "stdout",
     "output_type": "stream",
     "text": [
      "Omar Apollo , I would like to formally invite you to my dinner party!\n",
      "Dominic Fike , I would like to formally invite you to my dinner party!\n",
      "Beyonce , I would like to formally invite you to my dinner party!\n"
     ]
    }
   ],
   "source": [
    "print(list[0] + message)\n",
    "print(list[1] + message)\n",
    "print(list[2] + message)"
   ]
  },
  {
   "cell_type": "markdown",
   "id": "6b5dbea9",
   "metadata": {},
   "source": [
    "## 3-6"
   ]
  },
  {
   "cell_type": "code",
   "execution_count": 118,
   "id": "91445726",
   "metadata": {},
   "outputs": [
    {
     "name": "stdout",
     "output_type": "stream",
     "text": [
      "Omar Apollo , I would like to formally invite you to my dinner party!I found a bigger dinner table ,so I can invite more friends!\n",
      "Dominic Fike , I would like to formally invite you to my dinner party!I found a bigger dinner table ,so I can invite more friends!\n",
      "Beyonce , I would like to formally invite you to my dinner party!I found a bigger dinner table ,so I can invite more friends!\n"
     ]
    }
   ],
   "source": [
    "print(list[0] + message + \"I found a bigger dinner table ,so I can invite more friends!\")\n",
    "print(list[1] + message + \"I found a bigger dinner table ,so I can invite more friends!\")\n",
    "print(list[2] + message + \"I found a bigger dinner table ,so I can invite more friends!\")"
   ]
  },
  {
   "cell_type": "code",
   "execution_count": 119,
   "id": "ea3f243a",
   "metadata": {},
   "outputs": [],
   "source": [
    "list.insert(-0, 'Prince')"
   ]
  },
  {
   "cell_type": "code",
   "execution_count": 120,
   "id": "62dafd61",
   "metadata": {},
   "outputs": [
    {
     "name": "stdout",
     "output_type": "stream",
     "text": [
      "['Prince', 'Omar Apollo', 'Dominic Fike', 'Beyonce']\n"
     ]
    }
   ],
   "source": [
    "print(list)"
   ]
  },
  {
   "cell_type": "code",
   "execution_count": 121,
   "id": "8382f0ec",
   "metadata": {},
   "outputs": [],
   "source": [
    "list.insert(-2, 'Kali Uchis')"
   ]
  },
  {
   "cell_type": "code",
   "execution_count": 122,
   "id": "dbf0d73e",
   "metadata": {},
   "outputs": [
    {
     "name": "stdout",
     "output_type": "stream",
     "text": [
      "['Prince', 'Omar Apollo', 'Kali Uchis', 'Dominic Fike', 'Beyonce']\n"
     ]
    }
   ],
   "source": [
    "print(list)"
   ]
  },
  {
   "cell_type": "code",
   "execution_count": 123,
   "id": "15f7b8af",
   "metadata": {},
   "outputs": [],
   "source": [
    "list.append('Kelly Clarkson')"
   ]
  },
  {
   "cell_type": "code",
   "execution_count": 124,
   "id": "c4ed3e59",
   "metadata": {},
   "outputs": [
    {
     "name": "stdout",
     "output_type": "stream",
     "text": [
      "['Prince', 'Omar Apollo', 'Kali Uchis', 'Dominic Fike', 'Beyonce', 'Kelly Clarkson']\n"
     ]
    }
   ],
   "source": [
    "print(list)"
   ]
  },
  {
   "cell_type": "code",
   "execution_count": 127,
   "id": "e158a68c",
   "metadata": {},
   "outputs": [
    {
     "name": "stdout",
     "output_type": "stream",
     "text": [
      "Prince , I would like to formally invite you to my dinner party!I would like to formally invite you to my dinner party!I found a bigger dinner table ,so I can invite more friends!\n",
      "Omar Apollo , I would like to formally invite you to my dinner party!I would like to formally invite you to my dinner party!I found a bigger dinner table ,so I can invite more friends!\n",
      "Kali Uchis , I would like to formally invite you to my dinner party!I would like to formally invite you to my dinner party!I found a bigger dinner table ,so I can invite more friends!\n",
      "Dominic Fike , I would like to formally invite you to my dinner party!I would like to formally invite you to my dinner party!I found a bigger dinner table ,so I can invite more friends!\n",
      "Beyonce , I would like to formally invite you to my dinner party!I would like to formally invite you to my dinner party!I found a bigger dinner table ,so I can invite more friends!\n",
      "Kelly Clarkson , I would like to formally invite you to my dinner party!I would like to formally invite you to my dinner party!I found a bigger dinner table ,so I can invite more friends!\n"
     ]
    }
   ],
   "source": [
    "print(list[0] + message + \"I would like to formally invite you to my dinner party!I found a bigger dinner table ,so I can invite more friends!\")\n",
    "print(list[1] + message + \"I would like to formally invite you to my dinner party!I found a bigger dinner table ,so I can invite more friends!\")\n",
    "print(list[2] + message + \"I would like to formally invite you to my dinner party!I found a bigger dinner table ,so I can invite more friends!\")\n",
    "print(list[3] + message + \"I would like to formally invite you to my dinner party!I found a bigger dinner table ,so I can invite more friends!\")\n",
    "print(list[4] + message + \"I would like to formally invite you to my dinner party!I found a bigger dinner table ,so I can invite more friends!\")\n",
    "print(list[5] + message + \"I would like to formally invite you to my dinner party!I found a bigger dinner table ,so I can invite more friends!\")"
   ]
  },
  {
   "cell_type": "markdown",
   "id": "bae3c480",
   "metadata": {},
   "source": [
    "## 3-7"
   ]
  },
  {
   "cell_type": "code",
   "execution_count": 128,
   "id": "5ca7d85b",
   "metadata": {},
   "outputs": [
    {
     "name": "stdout",
     "output_type": "stream",
     "text": [
      "\n",
      "Unfortuately, I can only invite two people for dinner\n"
     ]
    }
   ],
   "source": [
    "print(\"\\nUnfortuately, I can only invite two people for dinner\")"
   ]
  },
  {
   "cell_type": "code",
   "execution_count": 129,
   "id": "e1c12b22",
   "metadata": {},
   "outputs": [],
   "source": [
    "popped_list=list.pop()"
   ]
  },
  {
   "cell_type": "code",
   "execution_count": 130,
   "id": "24cbb78d",
   "metadata": {},
   "outputs": [
    {
     "name": "stdout",
     "output_type": "stream",
     "text": [
      "['Prince', 'Omar Apollo', 'Kali Uchis', 'Dominic Fike', 'Beyonce']\n"
     ]
    }
   ],
   "source": [
    "print(list)"
   ]
  },
  {
   "cell_type": "code",
   "execution_count": 131,
   "id": "944313d1",
   "metadata": {
    "scrolled": true
   },
   "outputs": [
    {
     "name": "stdout",
     "output_type": "stream",
     "text": [
      "Kelly Clarkson , Im so sorry, but I can no longer invite you to dinner bestie!\n"
     ]
    }
   ],
   "source": [
    "print(popped_list + ' , Im so sorry, but I can no longer invite you to dinner bestie!')"
   ]
  },
  {
   "cell_type": "code",
   "execution_count": 132,
   "id": "5b2f524c",
   "metadata": {},
   "outputs": [],
   "source": [
    "popped_list=list.pop()"
   ]
  },
  {
   "cell_type": "code",
   "execution_count": 133,
   "id": "d756770d",
   "metadata": {},
   "outputs": [
    {
     "name": "stdout",
     "output_type": "stream",
     "text": [
      "['Prince', 'Omar Apollo', 'Kali Uchis', 'Dominic Fike']\n"
     ]
    }
   ],
   "source": [
    "print(list)"
   ]
  },
  {
   "cell_type": "code",
   "execution_count": 134,
   "id": "517106c1",
   "metadata": {},
   "outputs": [
    {
     "name": "stdout",
     "output_type": "stream",
     "text": [
      "Beyonce ,Im so sorry, but I can no longer invite you to my dinner best!\n"
     ]
    }
   ],
   "source": [
    "print(popped_list + ' ,Im so sorry, but I can no longer invite you to my dinner best!')"
   ]
  },
  {
   "cell_type": "code",
   "execution_count": 135,
   "id": "5eee625b",
   "metadata": {},
   "outputs": [],
   "source": [
    "popped_list=list.pop()"
   ]
  },
  {
   "cell_type": "code",
   "execution_count": 136,
   "id": "69aa4979",
   "metadata": {},
   "outputs": [
    {
     "name": "stdout",
     "output_type": "stream",
     "text": [
      "['Prince', 'Omar Apollo', 'Kali Uchis']\n"
     ]
    }
   ],
   "source": [
    "print(list)"
   ]
  },
  {
   "cell_type": "code",
   "execution_count": 137,
   "id": "61173a82",
   "metadata": {},
   "outputs": [
    {
     "name": "stdout",
     "output_type": "stream",
     "text": [
      "Dominic Fike , Im so sorry, but I can no longer invite you to my dinner bestie!\n"
     ]
    }
   ],
   "source": [
    "print(popped_list + ' , Im so sorry, but I can no longer invite you to my dinner bestie!')"
   ]
  },
  {
   "cell_type": "code",
   "execution_count": 138,
   "id": "ea3d9d88",
   "metadata": {},
   "outputs": [],
   "source": [
    "popped_list=list.pop()"
   ]
  },
  {
   "cell_type": "code",
   "execution_count": 139,
   "id": "ecea26b9",
   "metadata": {},
   "outputs": [
    {
     "name": "stdout",
     "output_type": "stream",
     "text": [
      "['Prince', 'Omar Apollo']\n"
     ]
    }
   ],
   "source": [
    "print(list)"
   ]
  },
  {
   "cell_type": "code",
   "execution_count": 140,
   "id": "4d5d7848",
   "metadata": {},
   "outputs": [
    {
     "name": "stdout",
     "output_type": "stream",
     "text": [
      "Kali Uchis , Im so sorry, but I can no longer invite you to my dinner bestie!\n"
     ]
    }
   ],
   "source": [
    "print(popped_list + ' , Im so sorry, but I can no longer invite you to my dinner bestie!')"
   ]
  },
  {
   "cell_type": "code",
   "execution_count": 141,
   "id": "a65f13ca",
   "metadata": {},
   "outputs": [],
   "source": [
    "del list[1]"
   ]
  },
  {
   "cell_type": "code",
   "execution_count": 142,
   "id": "ec6b8654",
   "metadata": {},
   "outputs": [
    {
     "name": "stdout",
     "output_type": "stream",
     "text": [
      "['Prince']\n"
     ]
    }
   ],
   "source": [
    "print(list)"
   ]
  },
  {
   "cell_type": "code",
   "execution_count": 143,
   "id": "b5381112",
   "metadata": {},
   "outputs": [],
   "source": [
    "del list[0]"
   ]
  },
  {
   "cell_type": "code",
   "execution_count": 144,
   "id": "bf460bd9",
   "metadata": {},
   "outputs": [
    {
     "name": "stdout",
     "output_type": "stream",
     "text": [
      "[]\n"
     ]
    }
   ],
   "source": [
    "print(list)"
   ]
  },
  {
   "cell_type": "markdown",
   "id": "39a61258",
   "metadata": {},
   "source": [
    "## 3-8"
   ]
  },
  {
   "cell_type": "code",
   "execution_count": 158,
   "id": "a3eea45c",
   "metadata": {},
   "outputs": [
    {
     "name": "stdout",
     "output_type": "stream",
     "text": [
      "['Paris', 'Mexico', 'New York', 'Boston', 'Philly']\n"
     ]
    }
   ],
   "source": [
    "locations=['Paris', 'Mexico', 'New York', 'Boston', 'Philly']\n",
    "print(locations)"
   ]
  },
  {
   "cell_type": "code",
   "execution_count": 178,
   "id": "5775919e",
   "metadata": {},
   "outputs": [
    {
     "name": "stdout",
     "output_type": "stream",
     "text": [
      "['Boston', 'Mexico', 'New York', 'Paris', 'Philly']\n",
      "['Paris', 'Mexico', 'New York', 'Boston', 'Philly']\n"
     ]
    }
   ],
   "source": [
    "print(sorted(locations))\n",
    "print(locations)"
   ]
  },
  {
   "cell_type": "code",
   "execution_count": 187,
   "id": "0c0bfe04",
   "metadata": {},
   "outputs": [
    {
     "name": "stdout",
     "output_type": "stream",
     "text": [
      "['Philly', 'Paris', 'New York', 'Mexico', 'Boston']\n",
      "['Paris', 'Mexico', 'New York', 'Boston', 'Philly']\n"
     ]
    }
   ],
   "source": [
    "print(sorted(locations, reverse=True))\n",
    "print(locations)"
   ]
  },
  {
   "cell_type": "code",
   "execution_count": 199,
   "id": "8812fbd6",
   "metadata": {},
   "outputs": [
    {
     "name": "stdout",
     "output_type": "stream",
     "text": [
      "['Philly', 'Boston', 'New York', 'Mexico', 'Paris']\n"
     ]
    }
   ],
   "source": [
    "locations=['Paris', 'Mexico', 'New York', 'Boston', 'Philly']\n",
    "(locations.reverse())\n",
    "print(locations)"
   ]
  },
  {
   "cell_type": "code",
   "execution_count": 204,
   "id": "04c9bf7e",
   "metadata": {},
   "outputs": [
    {
     "name": "stdout",
     "output_type": "stream",
     "text": [
      "['Paris', 'Mexico', 'New York', 'Boston', 'Philly']\n"
     ]
    }
   ],
   "source": [
    "(locations.reverse())\n",
    "print(locations)"
   ]
  },
  {
   "cell_type": "code",
   "execution_count": 205,
   "id": "12ed8821",
   "metadata": {},
   "outputs": [
    {
     "name": "stdout",
     "output_type": "stream",
     "text": [
      "['Boston', 'Mexico', 'New York', 'Paris', 'Philly']\n"
     ]
    }
   ],
   "source": [
    "print(sorted(locations))"
   ]
  },
  {
   "cell_type": "code",
   "execution_count": 206,
   "id": "b391bfbc",
   "metadata": {},
   "outputs": [
    {
     "name": "stdout",
     "output_type": "stream",
     "text": [
      "['Philly', 'Paris', 'New York', 'Mexico', 'Boston']\n"
     ]
    }
   ],
   "source": [
    "print(sorted(locations, reverse=True))"
   ]
  },
  {
   "cell_type": "code",
   "execution_count": null,
   "id": "2ab19a93",
   "metadata": {},
   "outputs": [],
   "source": []
  }
 ],
 "metadata": {
  "kernelspec": {
   "display_name": "Python 3 (ipykernel)",
   "language": "python",
   "name": "python3"
  },
  "language_info": {
   "codemirror_mode": {
    "name": "ipython",
    "version": 3
   },
   "file_extension": ".py",
   "mimetype": "text/x-python",
   "name": "python",
   "nbconvert_exporter": "python",
   "pygments_lexer": "ipython3",
   "version": "3.11.4"
  }
 },
 "nbformat": 4,
 "nbformat_minor": 5
}
