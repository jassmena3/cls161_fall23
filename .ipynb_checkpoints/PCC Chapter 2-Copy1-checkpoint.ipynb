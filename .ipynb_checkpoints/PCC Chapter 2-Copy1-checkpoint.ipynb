{
 "cells": [
  {
   "cell_type": "markdown",
   "id": "82b77724",
   "metadata": {},
   "source": [
    "# Chapter Two Homework"
   ]
  },
  {
   "cell_type": "markdown",
   "id": "0ee4358e",
   "metadata": {},
   "source": [
    "## 2-1"
   ]
  },
  {
   "cell_type": "code",
   "execution_count": 1,
   "id": "7dd7f899",
   "metadata": {},
   "outputs": [
    {
     "name": "stdout",
     "output_type": "stream",
     "text": [
      "I've already done this\n"
     ]
    }
   ],
   "source": [
    "message =\"I've already done this\"\n",
    "print(message)"
   ]
  },
  {
   "cell_type": "markdown",
   "id": "8c1c92a1",
   "metadata": {},
   "source": [
    "## 2-2"
   ]
  },
  {
   "cell_type": "code",
   "execution_count": 2,
   "id": "35e22f7c",
   "metadata": {},
   "outputs": [
    {
     "name": "stdout",
     "output_type": "stream",
     "text": [
      "I love tufts!\n"
     ]
    }
   ],
   "source": [
    "message = \"I love tufts!\"\n",
    "print(message)"
   ]
  },
  {
   "cell_type": "code",
   "execution_count": 3,
   "id": "e07b9486",
   "metadata": {},
   "outputs": [
    {
     "name": "stdout",
     "output_type": "stream",
     "text": [
      "I really love tufts!\n"
     ]
    }
   ],
   "source": [
    "message = \"I really love tufts!\"\n",
    "print(message)"
   ]
  },
  {
   "cell_type": "markdown",
   "id": "497e4c39",
   "metadata": {},
   "source": [
    "## 2-3"
   ]
  },
  {
   "cell_type": "code",
   "execution_count": 4,
   "id": "df6297de",
   "metadata": {},
   "outputs": [],
   "source": [
    "message = \"Hello Wendy, would you like to learn some Python today?\""
   ]
  },
  {
   "cell_type": "code",
   "execution_count": 5,
   "id": "e3f9b9fd",
   "metadata": {},
   "outputs": [
    {
     "name": "stdout",
     "output_type": "stream",
     "text": [
      "Hello Wendy, would you like to learn some Python today?\n"
     ]
    }
   ],
   "source": [
    "print(message)"
   ]
  },
  {
   "cell_type": "markdown",
   "id": "d195d6b0",
   "metadata": {},
   "source": [
    "## 2-4"
   ]
  },
  {
   "cell_type": "code",
   "execution_count": 10,
   "id": "8a3d9a07",
   "metadata": {},
   "outputs": [
    {
     "name": "stdout",
     "output_type": "stream",
     "text": [
      "Wendy\n",
      "wendy\n",
      "WENDY\n"
     ]
    }
   ],
   "source": [
    "name=\"Wendy\"\n",
    "print(name.title())\n",
    "print(name.lower())\n",
    "print(name.upper())"
   ]
  },
  {
   "cell_type": "markdown",
   "id": "f468fdbc",
   "metadata": {},
   "source": [
    "## 2-5"
   ]
  },
  {
   "cell_type": "code",
   "execution_count": 11,
   "id": "32c6c84d",
   "metadata": {},
   "outputs": [
    {
     "name": "stdout",
     "output_type": "stream",
     "text": [
      "Frida kahlo once said,'Pinto flores para que no mueran.'\n"
     ]
    }
   ],
   "source": [
    "message=\"Frida kahlo once said,'Pinto flores para que no mueran.'\"\n",
    "print(message)"
   ]
  },
  {
   "cell_type": "markdown",
   "id": "04c1869a",
   "metadata": {},
   "source": [
    "## 2-6"
   ]
  },
  {
   "cell_type": "code",
   "execution_count": 12,
   "id": "511f32fd",
   "metadata": {},
   "outputs": [],
   "source": [
    "famous_person=\"Frida Kahlo \""
   ]
  },
  {
   "cell_type": "code",
   "execution_count": 21,
   "id": "b3e47f0c",
   "metadata": {},
   "outputs": [
    {
     "name": "stdout",
     "output_type": "stream",
     "text": [
      "Frida Kahlo\n"
     ]
    }
   ],
   "source": [
    "print(famous_person)"
   ]
  },
  {
   "cell_type": "code",
   "execution_count": 22,
   "id": "eae13635",
   "metadata": {},
   "outputs": [],
   "source": [
    "message=\" once said, 'Pinto flores para que no mueran.' \""
   ]
  },
  {
   "cell_type": "code",
   "execution_count": 23,
   "id": "9ce75e2b",
   "metadata": {},
   "outputs": [
    {
     "name": "stdout",
     "output_type": "stream",
     "text": [
      "Frida Kahlo once said, 'Pinto flores para que no mueran.' \n"
     ]
    }
   ],
   "source": [
    "print(famous_person + message )"
   ]
  },
  {
   "cell_type": "markdown",
   "id": "b8041ea2",
   "metadata": {},
   "source": [
    "## 2-7"
   ]
  },
  {
   "cell_type": "code",
   "execution_count": 36,
   "id": "938adabc",
   "metadata": {},
   "outputs": [
    {
     "name": "stdout",
     "output_type": "stream",
     "text": [
      "kathy\n"
     ]
    }
   ],
   "source": [
    "message=\"kathy\"\n",
    "print(message)"
   ]
  },
  {
   "cell_type": "code",
   "execution_count": 30,
   "id": "7fca9949",
   "metadata": {},
   "outputs": [
    {
     "name": "stdout",
     "output_type": "stream",
     "text": [
      "\n",
      "kathy\n"
     ]
    }
   ],
   "source": [
    "print(\"\\nkathy\")"
   ]
  },
  {
   "cell_type": "code",
   "execution_count": 29,
   "id": "ba6f45fd",
   "metadata": {},
   "outputs": [
    {
     "name": "stdout",
     "output_type": "stream",
     "text": [
      "\tkathy\n"
     ]
    }
   ],
   "source": [
    "print(\"\\tkathy\")"
   ]
  },
  {
   "cell_type": "code",
   "execution_count": 45,
   "id": "92ca7026",
   "metadata": {},
   "outputs": [
    {
     "name": "stdout",
     "output_type": "stream",
     "text": [
      "kathy\t\n"
     ]
    }
   ],
   "source": [
    "print(\"kathy\\t\")"
   ]
  },
  {
   "cell_type": "code",
   "execution_count": 33,
   "id": "e1a28169",
   "metadata": {},
   "outputs": [
    {
     "name": "stdout",
     "output_type": "stream",
     "text": [
      "\n",
      "\tkathy\n"
     ]
    }
   ],
   "source": [
    "print(\"\\n\\tkathy\")"
   ]
  },
  {
   "cell_type": "code",
   "execution_count": 48,
   "id": "fa3fcf1d",
   "metadata": {},
   "outputs": [
    {
     "name": "stdout",
     "output_type": "stream",
     "text": [
      " kathy\n",
      "kathy\n"
     ]
    }
   ],
   "source": [
    "name=\" kathy\"\n",
    "print(name)\n",
    "print(name.lstrip())"
   ]
  },
  {
   "cell_type": "code",
   "execution_count": 50,
   "id": "025b8008",
   "metadata": {},
   "outputs": [
    {
     "name": "stdout",
     "output_type": "stream",
     "text": [
      "kathy \n",
      "kathy\n"
     ]
    }
   ],
   "source": [
    "name=\"kathy \"\n",
    "print(name)\n",
    "print(name.rstrip())"
   ]
  },
  {
   "cell_type": "code",
   "execution_count": 51,
   "id": "30c11364",
   "metadata": {},
   "outputs": [
    {
     "name": "stdout",
     "output_type": "stream",
     "text": [
      " kathy \n",
      "kathy\n"
     ]
    }
   ],
   "source": [
    "name=\" kathy \"\n",
    "print(name)\n",
    "print(name.strip())"
   ]
  },
  {
   "cell_type": "markdown",
   "id": "f569c52d",
   "metadata": {},
   "source": [
    "## 2-10"
   ]
  },
  {
   "cell_type": "code",
   "execution_count": 54,
   "id": "25eff6c6",
   "metadata": {},
   "outputs": [
    {
     "name": "stdout",
     "output_type": "stream",
     "text": [
      "Frida Kahlo\n"
     ]
    }
   ],
   "source": [
    "#add space before each variable to prevent word merging\n",
    "print(famous_person)"
   ]
  },
  {
   "cell_type": "code",
   "execution_count": 55,
   "id": "e4f57548",
   "metadata": {},
   "outputs": [
    {
     "name": "stdout",
     "output_type": "stream",
     "text": [
      "I really love tufts!\n"
     ]
    }
   ],
   "source": [
    "#Jasmin 09/20 The program is changing the message by adding the word really\n",
    "message = \"I really love tufts!\"\n",
    "print(message)"
   ]
  },
  {
   "cell_type": "code",
   "execution_count": null,
   "id": "cbd15c30",
   "metadata": {},
   "outputs": [],
   "source": []
  }
 ],
 "metadata": {
  "kernelspec": {
   "display_name": "Python 3 (ipykernel)",
   "language": "python",
   "name": "python3"
  },
  "language_info": {
   "codemirror_mode": {
    "name": "ipython",
    "version": 3
   },
   "file_extension": ".py",
   "mimetype": "text/x-python",
   "name": "python",
   "nbconvert_exporter": "python",
   "pygments_lexer": "ipython3",
   "version": "3.11.4"
  }
 },
 "nbformat": 4,
 "nbformat_minor": 5
}
