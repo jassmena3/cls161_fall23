{
 "cells": [
  {
   "cell_type": "markdown",
   "id": "93a1f3d7",
   "metadata": {},
   "source": [
    "## 4-1"
   ]
  },
  {
   "cell_type": "code",
   "execution_count": 1,
   "id": "68bc9a28",
   "metadata": {},
   "outputs": [
    {
     "name": "stdout",
     "output_type": "stream",
     "text": [
      "cheese pizza\n",
      "pepperoni pizza\n",
      "sausage pizza\n"
     ]
    }
   ],
   "source": [
    "pizzas=['cheese pizza', 'pepperoni pizza', 'sausage pizza']\n",
    "for pizza in pizzas:\n",
    "    print(pizza)"
   ]
  },
  {
   "cell_type": "code",
   "execution_count": 3,
   "id": "bc4ecc28",
   "metadata": {},
   "outputs": [
    {
     "name": "stdout",
     "output_type": "stream",
     "text": [
      "Cheese Pizza ,is the best pizza!\n",
      "Pepperoni Pizza ,is the best pizza!\n",
      "Sausage Pizza ,is the best pizza!\n"
     ]
    }
   ],
   "source": [
    "pizzas=['cheese pizza', 'pepperoni pizza', 'sausage pizza']\n",
    "for pizza in pizzas:\n",
    "    print(pizza.title() + \" ,is the best pizza!\")"
   ]
  },
  {
   "cell_type": "code",
   "execution_count": 4,
   "id": "dd8b0370",
   "metadata": {},
   "outputs": [
    {
     "name": "stdout",
     "output_type": "stream",
     "text": [
      "Cheese Pizza ,is the best pizza!\n",
      "Pepperoni Pizza ,is the best pizza!\n",
      "Sausage Pizza ,is the best pizza!\n",
      "Pizza is my favorite food!\n"
     ]
    }
   ],
   "source": [
    "pizzas=['cheese pizza', 'pepperoni pizza', 'sausage pizza']\n",
    "for pizza in pizzas:\n",
    "    print(pizza.title() + \" ,is the best pizza!\")\n",
    "print(\"Pizza is my favorite food!\")"
   ]
  },
  {
   "cell_type": "markdown",
   "id": "37cec338",
   "metadata": {},
   "source": [
    "## 4-2"
   ]
  },
  {
   "cell_type": "code",
   "execution_count": 5,
   "id": "b5c9c4dc",
   "metadata": {},
   "outputs": [
    {
     "name": "stdout",
     "output_type": "stream",
     "text": [
      "Cheetah\n",
      "Lion\n",
      "Jaguar\n"
     ]
    }
   ],
   "source": [
    "animals=['cheetah', 'lion', 'jaguar']\n",
    "for animal in animals:\n",
    "    print(animal.title())"
   ]
  },
  {
   "cell_type": "code",
   "execution_count": 8,
   "id": "5073d563",
   "metadata": {},
   "outputs": [
    {
     "name": "stdout",
     "output_type": "stream",
     "text": [
      "A Cheetah would be an amazing pet!\n",
      "A Lion would be an amazing pet!\n",
      "A Jaguar would be an amazing pet!\n"
     ]
    }
   ],
   "source": [
    "animals=['cheetah', 'lion', 'jaguar']\n",
    "for animal in animals:\n",
    "    print('A ' +animal.title()+ ' would be an amazing pet!')"
   ]
  },
  {
   "cell_type": "code",
   "execution_count": 9,
   "id": "d9337cc0",
   "metadata": {},
   "outputs": [
    {
     "name": "stdout",
     "output_type": "stream",
     "text": [
      "A Cheetah would be an amazing pet!\n",
      "A Lion would be an amazing pet!\n",
      "A Jaguar would be an amazing pet!\n",
      "These animals are all a part of the big cat family!\n"
     ]
    }
   ],
   "source": [
    "animals=['cheetah', 'lion', 'jaguar']\n",
    "for animal in animals:\n",
    "    print('A ' +animal.title()+ ' would be an amazing pet!')\n",
    "print('These animals are all a part of the big cat family!')"
   ]
  },
  {
   "cell_type": "markdown",
   "id": "883a23df",
   "metadata": {},
   "source": [
    "## 4-3"
   ]
  },
  {
   "cell_type": "code",
   "execution_count": 10,
   "id": "f2d6bc04",
   "metadata": {},
   "outputs": [
    {
     "name": "stdout",
     "output_type": "stream",
     "text": [
      "1\n",
      "2\n",
      "3\n",
      "4\n",
      "5\n",
      "6\n",
      "7\n",
      "8\n",
      "9\n",
      "10\n",
      "11\n",
      "12\n",
      "13\n",
      "14\n",
      "15\n",
      "16\n",
      "17\n",
      "18\n",
      "19\n",
      "20\n"
     ]
    }
   ],
   "source": [
    "for value in range(1,21):\n",
    "    print(value)"
   ]
  },
  {
   "cell_type": "markdown",
   "id": "4ce87f69",
   "metadata": {},
   "source": [
    "## 4-6"
   ]
  },
  {
   "cell_type": "code",
   "execution_count": 22,
   "id": "f991e8e0",
   "metadata": {},
   "outputs": [
    {
     "name": "stdout",
     "output_type": "stream",
     "text": [
      "1\n",
      "3\n",
      "5\n",
      "7\n",
      "9\n",
      "11\n",
      "13\n",
      "15\n",
      "17\n",
      "19\n"
     ]
    }
   ],
   "source": [
    "odd_numbers = list(range(1,20,2))\n",
    "for number in odd_numbers:\n",
    "    print(number)"
   ]
  },
  {
   "cell_type": "markdown",
   "id": "76f93eda",
   "metadata": {},
   "source": [
    "## 4-10"
   ]
  },
  {
   "cell_type": "code",
   "execution_count": 24,
   "id": "ea7c0d6b",
   "metadata": {},
   "outputs": [
    {
     "name": "stdout",
     "output_type": "stream",
     "text": [
      "The first three items in the list are:\n",
      "['cheetah', 'lion', 'jaguar']\n"
     ]
    }
   ],
   "source": [
    "print(\"The first three items in the list are:\")\n",
    "animals=['cheetah', 'lion', 'jaguar', 'leopard', 'tiger', 'cougar', 'panther', 'puma', 'lynx']\n",
    "print(animals[0:3])"
   ]
  },
  {
   "cell_type": "code",
   "execution_count": 26,
   "id": "782ec1cb",
   "metadata": {},
   "outputs": [
    {
     "name": "stdout",
     "output_type": "stream",
     "text": [
      "Three items from the middle of the list are:\n",
      "['leopard', 'tiger', 'cougar']\n"
     ]
    }
   ],
   "source": [
    "print(\"Three items from the middle of the list are:\")\n",
    "print(animals[3:6])"
   ]
  },
  {
   "cell_type": "code",
   "execution_count": 27,
   "id": "59739b58",
   "metadata": {},
   "outputs": [
    {
     "name": "stdout",
     "output_type": "stream",
     "text": [
      "The last three items in the list are:\n",
      "['panther', 'puma', 'lynx']\n"
     ]
    }
   ],
   "source": [
    "print(\"The last three items in the list are:\")\n",
    "print(animals[6:9])"
   ]
  },
  {
   "cell_type": "markdown",
   "id": "9ff4c469",
   "metadata": {},
   "source": [
    "## 4-11"
   ]
  },
  {
   "cell_type": "code",
   "execution_count": 36,
   "id": "fd8c9c8f",
   "metadata": {},
   "outputs": [],
   "source": [
    "pizzas=['cheese pizza', 'pepperoni pizza', 'sausage pizza']\n",
    "friend_pizzas=pizzas[:]\n",
    "pizzas.append('veggie pizza')\n",
    "friend_pizzas.append('hawaiian pizza')"
   ]
  },
  {
   "cell_type": "code",
   "execution_count": 39,
   "id": "6e6bdb66",
   "metadata": {},
   "outputs": [
    {
     "name": "stdout",
     "output_type": "stream",
     "text": [
      "My favorite pizzas are:\n",
      "cheese pizza\n",
      "pepperoni pizza\n",
      "sausage pizza\n",
      "veggie pizza\n",
      "\n",
      "My friend's favorite pizzas are:\n",
      "cheese pizza\n",
      "pepperoni pizza\n",
      "sausage pizza\n",
      "hawaiian pizza\n"
     ]
    }
   ],
   "source": [
    "print('My favorite pizzas are:')\n",
    "for pizza in pizzas:\n",
    "    print(pizza)\n",
    "print(\"\\nMy friend's favorite pizzas are:\")\n",
    "for pizza in friend_pizzas:\n",
    "    print(pizza)"
   ]
  }
 ],
 "metadata": {
  "kernelspec": {
   "display_name": "Python 3 (ipykernel)",
   "language": "python",
   "name": "python3"
  },
  "language_info": {
   "codemirror_mode": {
    "name": "ipython",
    "version": 3
   },
   "file_extension": ".py",
   "mimetype": "text/x-python",
   "name": "python",
   "nbconvert_exporter": "python",
   "pygments_lexer": "ipython3",
   "version": "3.11.4"
  }
 },
 "nbformat": 4,
 "nbformat_minor": 5
}
