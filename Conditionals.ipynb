{
 "cells": [
  {
   "cell_type": "markdown",
   "id": "b447e76d",
   "metadata": {},
   "source": [
    "## Conditionals"
   ]
  },
  {
   "cell_type": "code",
   "execution_count": 1,
   "id": "20fec5c2",
   "metadata": {},
   "outputs": [],
   "source": [
    "list_of_lists= [[\"a\", \"b\", \"c\"], [1, 2, 3]]"
   ]
  },
  {
   "cell_type": "code",
   "execution_count": 2,
   "id": "63d077da",
   "metadata": {},
   "outputs": [
    {
     "data": {
      "text/plain": [
       "2"
      ]
     },
     "execution_count": 2,
     "metadata": {},
     "output_type": "execute_result"
    }
   ],
   "source": [
    "len(list_of_lists)"
   ]
  },
  {
   "cell_type": "code",
   "execution_count": 3,
   "id": "b2e3c5ea",
   "metadata": {},
   "outputs": [
    {
     "name": "stdout",
     "output_type": "stream",
     "text": [
      "['a', 'b', 'c']\n"
     ]
    }
   ],
   "source": [
    "print(list_of_lists[0])"
   ]
  },
  {
   "cell_type": "code",
   "execution_count": 6,
   "id": "75423d00",
   "metadata": {},
   "outputs": [
    {
     "name": "stdout",
     "output_type": "stream",
     "text": [
      "2\n"
     ]
    }
   ],
   "source": [
    "print(list_of_lists[1][1])"
   ]
  },
  {
   "cell_type": "markdown",
   "id": "24a92851",
   "metadata": {},
   "source": [
    "### ^ first bracket prints list and second refers to the position"
   ]
  },
  {
   "cell_type": "markdown",
   "id": "63475b1f",
   "metadata": {},
   "source": [
    "## Boolean"
   ]
  },
  {
   "cell_type": "markdown",
   "id": "27c1d393",
   "metadata": {},
   "source": [
    "### Booleans can be true or false"
   ]
  },
  {
   "cell_type": "code",
   "execution_count": 7,
   "id": "97671608",
   "metadata": {},
   "outputs": [],
   "source": [
    "a = True\n",
    "b = False"
   ]
  },
  {
   "cell_type": "code",
   "execution_count": 8,
   "id": "95093038",
   "metadata": {},
   "outputs": [
    {
     "name": "stdout",
     "output_type": "stream",
     "text": [
      "<class 'bool'>\n"
     ]
    }
   ],
   "source": [
    "print(type(a))"
   ]
  },
  {
   "cell_type": "code",
   "execution_count": 9,
   "id": "1578535e",
   "metadata": {},
   "outputs": [
    {
     "name": "stdout",
     "output_type": "stream",
     "text": [
      "False\n"
     ]
    }
   ],
   "source": [
    "print(7==10)"
   ]
  },
  {
   "cell_type": "code",
   "execution_count": 10,
   "id": "2fcec9cf",
   "metadata": {},
   "outputs": [
    {
     "name": "stdout",
     "output_type": "stream",
     "text": [
      "True\n"
     ]
    }
   ],
   "source": [
    "print(7!=10)"
   ]
  },
  {
   "cell_type": "code",
   "execution_count": 11,
   "id": "7145f22e",
   "metadata": {},
   "outputs": [
    {
     "name": "stdout",
     "output_type": "stream",
     "text": [
      "True\n"
     ]
    }
   ],
   "source": [
    "print(7<10)"
   ]
  },
  {
   "cell_type": "code",
   "execution_count": 12,
   "id": "86122339",
   "metadata": {},
   "outputs": [
    {
     "name": "stdout",
     "output_type": "stream",
     "text": [
      "False\n"
     ]
    }
   ],
   "source": [
    "print(7>10)"
   ]
  },
  {
   "cell_type": "code",
   "execution_count": 13,
   "id": "4785de83",
   "metadata": {},
   "outputs": [],
   "source": [
    "c = 18"
   ]
  },
  {
   "cell_type": "code",
   "execution_count": 14,
   "id": "9c08ba22",
   "metadata": {},
   "outputs": [
    {
     "data": {
      "text/plain": [
       "True"
      ]
     },
     "execution_count": 14,
     "metadata": {},
     "output_type": "execute_result"
    }
   ],
   "source": [
    "c==18"
   ]
  },
  {
   "cell_type": "code",
   "execution_count": 15,
   "id": "b5cc510d",
   "metadata": {},
   "outputs": [
    {
     "data": {
      "text/plain": [
       "False"
      ]
     },
     "execution_count": 15,
     "metadata": {},
     "output_type": "execute_result"
    }
   ],
   "source": [
    "'c' ==18"
   ]
  },
  {
   "cell_type": "code",
   "execution_count": 16,
   "id": "fafcb223",
   "metadata": {},
   "outputs": [
    {
     "name": "stdout",
     "output_type": "stream",
     "text": [
      "True\n"
     ]
    }
   ],
   "source": [
    "print(\"Gibbon\" == \"Gibbon\")"
   ]
  },
  {
   "cell_type": "code",
   "execution_count": 17,
   "id": "c2a1c4dc",
   "metadata": {},
   "outputs": [
    {
     "name": "stdout",
     "output_type": "stream",
     "text": [
      "False\n"
     ]
    }
   ],
   "source": [
    "print(\"Gibbon\" ==\"gibbon\")"
   ]
  },
  {
   "cell_type": "code",
   "execution_count": 18,
   "id": "395f34cf",
   "metadata": {},
   "outputs": [],
   "source": [
    "historians=['gibbon', 'eusebius', 'lepore']"
   ]
  },
  {
   "cell_type": "code",
   "execution_count": 19,
   "id": "709ed636",
   "metadata": {},
   "outputs": [
    {
     "name": "stdout",
     "output_type": "stream",
     "text": [
      "True\n"
     ]
    }
   ],
   "source": [
    "print('gibbon' in historians)"
   ]
  },
  {
   "cell_type": "code",
   "execution_count": 20,
   "id": "8e3e4be1",
   "metadata": {},
   "outputs": [
    {
     "name": "stdout",
     "output_type": "stream",
     "text": [
      "False\n"
     ]
    }
   ],
   "source": [
    "print('Gibbon' in historians)"
   ]
  },
  {
   "cell_type": "code",
   "execution_count": 38,
   "id": "997efce3",
   "metadata": {
    "scrolled": true
   },
   "outputs": [
    {
     "name": "stdout",
     "output_type": "stream",
     "text": [
      "Gibbon\n"
     ]
    }
   ],
   "source": [
    "print('Gibbon' or 'gibbon' in historians)"
   ]
  },
  {
   "cell_type": "code",
   "execution_count": 39,
   "id": "145e78bc",
   "metadata": {},
   "outputs": [
    {
     "data": {
      "text/plain": [
       "True"
      ]
     },
     "execution_count": 39,
     "metadata": {},
     "output_type": "execute_result"
    }
   ],
   "source": [
    "(\"gibbon\" in historians) or(\"Gibbon\" in historians)"
   ]
  },
  {
   "cell_type": "code",
   "execution_count": 40,
   "id": "7cb9dcee",
   "metadata": {},
   "outputs": [
    {
     "name": "stdout",
     "output_type": "stream",
     "text": [
      "Gibbon is in list\n",
      "Gibbon is not in list\n",
      "Gibbon is not in list\n"
     ]
    }
   ],
   "source": [
    "for historian in historians:\n",
    "    if historian == \"Gibbon\" or historian == \"gibbon\":\n",
    "        print('Gibbon is in list')\n",
    "    else: \n",
    "        print('Gibbon is not in list')"
   ]
  },
  {
   "cell_type": "markdown",
   "id": "7a53ab28",
   "metadata": {},
   "source": [
    "# Conditionals"
   ]
  },
  {
   "cell_type": "code",
   "execution_count": 29,
   "id": "4ede5302",
   "metadata": {},
   "outputs": [],
   "source": [
    "age=18"
   ]
  },
  {
   "cell_type": "code",
   "execution_count": 30,
   "id": "1542d416",
   "metadata": {},
   "outputs": [
    {
     "name": "stdout",
     "output_type": "stream",
     "text": [
      "Happy Birthday, welcome to democracy, it\"s a little rough out there.\n"
     ]
    }
   ],
   "source": [
    "if age > 18: \n",
    "    print('You are old enough to vote.')\n",
    "elif age == 18:\n",
    "    print('Happy Birthday, welcome to democracy, it\"s a little rough out there.')\n",
    "else: \n",
    "    print('You are too young to vote.')"
   ]
  },
  {
   "cell_type": "markdown",
   "id": "d043efd4",
   "metadata": {},
   "source": [
    "## Boolean operators"
   ]
  },
  {
   "cell_type": "code",
   "execution_count": 37,
   "id": "0dea3dc2",
   "metadata": {},
   "outputs": [
    {
     "data": {
      "text/plain": [
       "True"
      ]
     },
     "execution_count": 37,
     "metadata": {},
     "output_type": "execute_result"
    }
   ],
   "source": [
    "(7 != 10) or (7 > 10)"
   ]
  },
  {
   "cell_type": "code",
   "execution_count": null,
   "id": "8515b3c2",
   "metadata": {},
   "outputs": [],
   "source": []
  }
 ],
 "metadata": {
  "kernelspec": {
   "display_name": "Python 3 (ipykernel)",
   "language": "python",
   "name": "python3"
  },
  "language_info": {
   "codemirror_mode": {
    "name": "ipython",
    "version": 3
   },
   "file_extension": ".py",
   "mimetype": "text/x-python",
   "name": "python",
   "nbconvert_exporter": "python",
   "pygments_lexer": "ipython3",
   "version": "3.11.4"
  }
 },
 "nbformat": 4,
 "nbformat_minor": 5
}
